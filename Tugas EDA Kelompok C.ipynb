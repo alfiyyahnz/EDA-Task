{
 "cells": [
  {
   "cell_type": "code",
   "execution_count": 1,
   "id": "5a7d1ca9",
   "metadata": {},
   "outputs": [],
   "source": [
    "import numpy as np\n",
    "import pandas as pd\n",
    "import matplotlib as mp\n",
    "import seaborn as sns\n",
    "import matplotlib.pyplot as plt\n",
    "import matplotlib.cm as cm\n",
    "import abel"
   ]
  },
  {
   "cell_type": "code",
   "execution_count": 2,
   "id": "8c5bde69",
   "metadata": {
    "scrolled": true
   },
   "outputs": [
    {
     "name": "stdout",
     "output_type": "stream",
     "text": [
      "baris =  1449 , Kolom(jumlah variabel)=  6\n",
      "Tipe Variabel df =  <class 'pandas.core.frame.DataFrame'>\n"
     ]
    },
    {
     "data": {
      "text/html": [
       "<div>\n",
       "<style scoped>\n",
       "    .dataframe tbody tr th:only-of-type {\n",
       "        vertical-align: middle;\n",
       "    }\n",
       "\n",
       "    .dataframe tbody tr th {\n",
       "        vertical-align: top;\n",
       "    }\n",
       "\n",
       "    .dataframe thead th {\n",
       "        text-align: right;\n",
       "    }\n",
       "</style>\n",
       "<table border=\"1\" class=\"dataframe\">\n",
       "  <thead>\n",
       "    <tr style=\"text-align: right;\">\n",
       "      <th></th>\n",
       "      <th>site_id</th>\n",
       "      <th>building_id</th>\n",
       "      <th>primary_use</th>\n",
       "      <th>square_feet</th>\n",
       "      <th>year_built</th>\n",
       "      <th>floor_count</th>\n",
       "    </tr>\n",
       "  </thead>\n",
       "  <tbody>\n",
       "    <tr>\n",
       "      <th>0</th>\n",
       "      <td>0</td>\n",
       "      <td>0</td>\n",
       "      <td>Education</td>\n",
       "      <td>7432</td>\n",
       "      <td>2008.0</td>\n",
       "      <td>NaN</td>\n",
       "    </tr>\n",
       "    <tr>\n",
       "      <th>1</th>\n",
       "      <td>0</td>\n",
       "      <td>1</td>\n",
       "      <td>Education</td>\n",
       "      <td>2720</td>\n",
       "      <td>2004.0</td>\n",
       "      <td>NaN</td>\n",
       "    </tr>\n",
       "    <tr>\n",
       "      <th>2</th>\n",
       "      <td>0</td>\n",
       "      <td>2</td>\n",
       "      <td>Education</td>\n",
       "      <td>5376</td>\n",
       "      <td>1991.0</td>\n",
       "      <td>NaN</td>\n",
       "    </tr>\n",
       "    <tr>\n",
       "      <th>3</th>\n",
       "      <td>0</td>\n",
       "      <td>3</td>\n",
       "      <td>Education</td>\n",
       "      <td>23685</td>\n",
       "      <td>2002.0</td>\n",
       "      <td>NaN</td>\n",
       "    </tr>\n",
       "    <tr>\n",
       "      <th>4</th>\n",
       "      <td>0</td>\n",
       "      <td>4</td>\n",
       "      <td>Education</td>\n",
       "      <td>116607</td>\n",
       "      <td>1975.0</td>\n",
       "      <td>NaN</td>\n",
       "    </tr>\n",
       "    <tr>\n",
       "      <th>...</th>\n",
       "      <td>...</td>\n",
       "      <td>...</td>\n",
       "      <td>...</td>\n",
       "      <td>...</td>\n",
       "      <td>...</td>\n",
       "      <td>...</td>\n",
       "    </tr>\n",
       "    <tr>\n",
       "      <th>1444</th>\n",
       "      <td>15</td>\n",
       "      <td>1444</td>\n",
       "      <td>Entertainment/public assembly</td>\n",
       "      <td>19619</td>\n",
       "      <td>1914.0</td>\n",
       "      <td>NaN</td>\n",
       "    </tr>\n",
       "    <tr>\n",
       "      <th>1445</th>\n",
       "      <td>15</td>\n",
       "      <td>1445</td>\n",
       "      <td>Education</td>\n",
       "      <td>4298</td>\n",
       "      <td>NaN</td>\n",
       "      <td>NaN</td>\n",
       "    </tr>\n",
       "    <tr>\n",
       "      <th>1446</th>\n",
       "      <td>15</td>\n",
       "      <td>1446</td>\n",
       "      <td>Entertainment/public assembly</td>\n",
       "      <td>11265</td>\n",
       "      <td>1997.0</td>\n",
       "      <td>NaN</td>\n",
       "    </tr>\n",
       "    <tr>\n",
       "      <th>1447</th>\n",
       "      <td>15</td>\n",
       "      <td>1447</td>\n",
       "      <td>Lodging/residential</td>\n",
       "      <td>29775</td>\n",
       "      <td>2001.0</td>\n",
       "      <td>NaN</td>\n",
       "    </tr>\n",
       "    <tr>\n",
       "      <th>1448</th>\n",
       "      <td>15</td>\n",
       "      <td>1448</td>\n",
       "      <td>Office</td>\n",
       "      <td>92271</td>\n",
       "      <td>2001.0</td>\n",
       "      <td>NaN</td>\n",
       "    </tr>\n",
       "  </tbody>\n",
       "</table>\n",
       "<p>1449 rows × 6 columns</p>\n",
       "</div>"
      ],
      "text/plain": [
       "      site_id  building_id                    primary_use  square_feet  \\\n",
       "0           0            0                      Education         7432   \n",
       "1           0            1                      Education         2720   \n",
       "2           0            2                      Education         5376   \n",
       "3           0            3                      Education        23685   \n",
       "4           0            4                      Education       116607   \n",
       "...       ...          ...                            ...          ...   \n",
       "1444       15         1444  Entertainment/public assembly        19619   \n",
       "1445       15         1445                      Education         4298   \n",
       "1446       15         1446  Entertainment/public assembly        11265   \n",
       "1447       15         1447            Lodging/residential        29775   \n",
       "1448       15         1448                         Office        92271   \n",
       "\n",
       "      year_built  floor_count  \n",
       "0         2008.0          NaN  \n",
       "1         2004.0          NaN  \n",
       "2         1991.0          NaN  \n",
       "3         2002.0          NaN  \n",
       "4         1975.0          NaN  \n",
       "...          ...          ...  \n",
       "1444      1914.0          NaN  \n",
       "1445         NaN          NaN  \n",
       "1446      1997.0          NaN  \n",
       "1447      2001.0          NaN  \n",
       "1448      2001.0          NaN  \n",
       "\n",
       "[1449 rows x 6 columns]"
      ]
     },
     "execution_count": 2,
     "metadata": {},
     "output_type": "execute_result"
    }
   ],
   "source": [
    "#import data  gd\n",
    "file_ = 'building_metadata.csv'\n",
    "gd = pd.read_csv(file_, low_memory= False, encoding='utf8')\n",
    "N, P = gd.shape\n",
    "print('baris = ', N, ', Kolom(jumlah variabel)= ', P)\n",
    "print(\"Tipe Variabel df = \", type(gd))\n",
    "gd"
   ]
  },
  {
   "cell_type": "code",
   "execution_count": 3,
   "id": "2e1c7640",
   "metadata": {},
   "outputs": [
    {
     "name": "stdout",
     "output_type": "stream",
     "text": [
      "baris =  20216100 , Kolom(jumlah variabel)=  4\n",
      "Tipe Variabel df =  <class 'pandas.core.frame.DataFrame'>\n"
     ]
    },
    {
     "data": {
      "text/html": [
       "<div>\n",
       "<style scoped>\n",
       "    .dataframe tbody tr th:only-of-type {\n",
       "        vertical-align: middle;\n",
       "    }\n",
       "\n",
       "    .dataframe tbody tr th {\n",
       "        vertical-align: top;\n",
       "    }\n",
       "\n",
       "    .dataframe thead th {\n",
       "        text-align: right;\n",
       "    }\n",
       "</style>\n",
       "<table border=\"1\" class=\"dataframe\">\n",
       "  <thead>\n",
       "    <tr style=\"text-align: right;\">\n",
       "      <th></th>\n",
       "      <th>building_id</th>\n",
       "      <th>meter</th>\n",
       "      <th>timestamp</th>\n",
       "      <th>meter_reading</th>\n",
       "    </tr>\n",
       "  </thead>\n",
       "  <tbody>\n",
       "    <tr>\n",
       "      <th>0</th>\n",
       "      <td>0</td>\n",
       "      <td>0</td>\n",
       "      <td>2016-01-01 00:00:00</td>\n",
       "      <td>0.000</td>\n",
       "    </tr>\n",
       "    <tr>\n",
       "      <th>1</th>\n",
       "      <td>1</td>\n",
       "      <td>0</td>\n",
       "      <td>2016-01-01 00:00:00</td>\n",
       "      <td>0.000</td>\n",
       "    </tr>\n",
       "    <tr>\n",
       "      <th>2</th>\n",
       "      <td>2</td>\n",
       "      <td>0</td>\n",
       "      <td>2016-01-01 00:00:00</td>\n",
       "      <td>0.000</td>\n",
       "    </tr>\n",
       "    <tr>\n",
       "      <th>3</th>\n",
       "      <td>3</td>\n",
       "      <td>0</td>\n",
       "      <td>2016-01-01 00:00:00</td>\n",
       "      <td>0.000</td>\n",
       "    </tr>\n",
       "    <tr>\n",
       "      <th>4</th>\n",
       "      <td>4</td>\n",
       "      <td>0</td>\n",
       "      <td>2016-01-01 00:00:00</td>\n",
       "      <td>0.000</td>\n",
       "    </tr>\n",
       "    <tr>\n",
       "      <th>...</th>\n",
       "      <td>...</td>\n",
       "      <td>...</td>\n",
       "      <td>...</td>\n",
       "      <td>...</td>\n",
       "    </tr>\n",
       "    <tr>\n",
       "      <th>20216095</th>\n",
       "      <td>1444</td>\n",
       "      <td>0</td>\n",
       "      <td>2016-12-31 23:00:00</td>\n",
       "      <td>8.750</td>\n",
       "    </tr>\n",
       "    <tr>\n",
       "      <th>20216096</th>\n",
       "      <td>1445</td>\n",
       "      <td>0</td>\n",
       "      <td>2016-12-31 23:00:00</td>\n",
       "      <td>4.825</td>\n",
       "    </tr>\n",
       "    <tr>\n",
       "      <th>20216097</th>\n",
       "      <td>1446</td>\n",
       "      <td>0</td>\n",
       "      <td>2016-12-31 23:00:00</td>\n",
       "      <td>0.000</td>\n",
       "    </tr>\n",
       "    <tr>\n",
       "      <th>20216098</th>\n",
       "      <td>1447</td>\n",
       "      <td>0</td>\n",
       "      <td>2016-12-31 23:00:00</td>\n",
       "      <td>159.575</td>\n",
       "    </tr>\n",
       "    <tr>\n",
       "      <th>20216099</th>\n",
       "      <td>1448</td>\n",
       "      <td>0</td>\n",
       "      <td>2016-12-31 23:00:00</td>\n",
       "      <td>2.850</td>\n",
       "    </tr>\n",
       "  </tbody>\n",
       "</table>\n",
       "<p>20216100 rows × 4 columns</p>\n",
       "</div>"
      ],
      "text/plain": [
       "          building_id  meter            timestamp  meter_reading\n",
       "0                   0      0  2016-01-01 00:00:00          0.000\n",
       "1                   1      0  2016-01-01 00:00:00          0.000\n",
       "2                   2      0  2016-01-01 00:00:00          0.000\n",
       "3                   3      0  2016-01-01 00:00:00          0.000\n",
       "4                   4      0  2016-01-01 00:00:00          0.000\n",
       "...               ...    ...                  ...            ...\n",
       "20216095         1444      0  2016-12-31 23:00:00          8.750\n",
       "20216096         1445      0  2016-12-31 23:00:00          4.825\n",
       "20216097         1446      0  2016-12-31 23:00:00          0.000\n",
       "20216098         1447      0  2016-12-31 23:00:00        159.575\n",
       "20216099         1448      0  2016-12-31 23:00:00          2.850\n",
       "\n",
       "[20216100 rows x 4 columns]"
      ]
     },
     "execution_count": 3,
     "metadata": {},
     "output_type": "execute_result"
    }
   ],
   "source": [
    "#import data en\n",
    "file_ = 'train.csv'\n",
    "en = pd.read_csv(file_, low_memory= False, encoding='utf8')\n",
    "N, P = en.shape\n",
    "print('baris = ', N, ', Kolom(jumlah variabel)= ', P)\n",
    "print(\"Tipe Variabel df = \", type(gd))\n",
    "en"
   ]
  },
  {
   "cell_type": "code",
   "execution_count": 4,
   "id": "36de67d3",
   "metadata": {},
   "outputs": [
    {
     "name": "stdout",
     "output_type": "stream",
     "text": [
      "baris =  277243 , Kolom(jumlah variabel)=  9\n",
      "Tipe Variabel df =  <class 'pandas.core.frame.DataFrame'>\n"
     ]
    },
    {
     "data": {
      "text/html": [
       "<div>\n",
       "<style scoped>\n",
       "    .dataframe tbody tr th:only-of-type {\n",
       "        vertical-align: middle;\n",
       "    }\n",
       "\n",
       "    .dataframe tbody tr th {\n",
       "        vertical-align: top;\n",
       "    }\n",
       "\n",
       "    .dataframe thead th {\n",
       "        text-align: right;\n",
       "    }\n",
       "</style>\n",
       "<table border=\"1\" class=\"dataframe\">\n",
       "  <thead>\n",
       "    <tr style=\"text-align: right;\">\n",
       "      <th></th>\n",
       "      <th>site_id</th>\n",
       "      <th>timestamp</th>\n",
       "      <th>air_temperature</th>\n",
       "      <th>cloud_coverage</th>\n",
       "      <th>dew_temperature</th>\n",
       "      <th>precip_depth_1_hr</th>\n",
       "      <th>sea_level_pressure</th>\n",
       "      <th>wind_direction</th>\n",
       "      <th>wind_speed</th>\n",
       "    </tr>\n",
       "  </thead>\n",
       "  <tbody>\n",
       "    <tr>\n",
       "      <th>0</th>\n",
       "      <td>0</td>\n",
       "      <td>2017-01-01 00:00:00</td>\n",
       "      <td>17.8</td>\n",
       "      <td>4.0</td>\n",
       "      <td>11.7</td>\n",
       "      <td>NaN</td>\n",
       "      <td>1021.4</td>\n",
       "      <td>100.0</td>\n",
       "      <td>3.6</td>\n",
       "    </tr>\n",
       "    <tr>\n",
       "      <th>1</th>\n",
       "      <td>0</td>\n",
       "      <td>2017-01-01 01:00:00</td>\n",
       "      <td>17.8</td>\n",
       "      <td>2.0</td>\n",
       "      <td>12.8</td>\n",
       "      <td>0.0</td>\n",
       "      <td>1022.0</td>\n",
       "      <td>130.0</td>\n",
       "      <td>3.1</td>\n",
       "    </tr>\n",
       "    <tr>\n",
       "      <th>2</th>\n",
       "      <td>0</td>\n",
       "      <td>2017-01-01 02:00:00</td>\n",
       "      <td>16.1</td>\n",
       "      <td>0.0</td>\n",
       "      <td>12.8</td>\n",
       "      <td>0.0</td>\n",
       "      <td>1021.9</td>\n",
       "      <td>140.0</td>\n",
       "      <td>3.1</td>\n",
       "    </tr>\n",
       "    <tr>\n",
       "      <th>3</th>\n",
       "      <td>0</td>\n",
       "      <td>2017-01-01 03:00:00</td>\n",
       "      <td>17.2</td>\n",
       "      <td>0.0</td>\n",
       "      <td>13.3</td>\n",
       "      <td>0.0</td>\n",
       "      <td>1022.2</td>\n",
       "      <td>140.0</td>\n",
       "      <td>3.1</td>\n",
       "    </tr>\n",
       "    <tr>\n",
       "      <th>4</th>\n",
       "      <td>0</td>\n",
       "      <td>2017-01-01 04:00:00</td>\n",
       "      <td>16.7</td>\n",
       "      <td>2.0</td>\n",
       "      <td>13.3</td>\n",
       "      <td>0.0</td>\n",
       "      <td>1022.3</td>\n",
       "      <td>130.0</td>\n",
       "      <td>2.6</td>\n",
       "    </tr>\n",
       "    <tr>\n",
       "      <th>...</th>\n",
       "      <td>...</td>\n",
       "      <td>...</td>\n",
       "      <td>...</td>\n",
       "      <td>...</td>\n",
       "      <td>...</td>\n",
       "      <td>...</td>\n",
       "      <td>...</td>\n",
       "      <td>...</td>\n",
       "      <td>...</td>\n",
       "    </tr>\n",
       "    <tr>\n",
       "      <th>277238</th>\n",
       "      <td>15</td>\n",
       "      <td>2018-12-31 19:00:00</td>\n",
       "      <td>3.3</td>\n",
       "      <td>NaN</td>\n",
       "      <td>1.7</td>\n",
       "      <td>NaN</td>\n",
       "      <td>1018.3</td>\n",
       "      <td>150.0</td>\n",
       "      <td>7.7</td>\n",
       "    </tr>\n",
       "    <tr>\n",
       "      <th>277239</th>\n",
       "      <td>15</td>\n",
       "      <td>2018-12-31 20:00:00</td>\n",
       "      <td>2.8</td>\n",
       "      <td>NaN</td>\n",
       "      <td>1.1</td>\n",
       "      <td>NaN</td>\n",
       "      <td>1017.8</td>\n",
       "      <td>140.0</td>\n",
       "      <td>5.1</td>\n",
       "    </tr>\n",
       "    <tr>\n",
       "      <th>277240</th>\n",
       "      <td>15</td>\n",
       "      <td>2018-12-31 21:00:00</td>\n",
       "      <td>2.8</td>\n",
       "      <td>NaN</td>\n",
       "      <td>1.7</td>\n",
       "      <td>-1.0</td>\n",
       "      <td>1017.2</td>\n",
       "      <td>140.0</td>\n",
       "      <td>6.2</td>\n",
       "    </tr>\n",
       "    <tr>\n",
       "      <th>277241</th>\n",
       "      <td>15</td>\n",
       "      <td>2018-12-31 22:00:00</td>\n",
       "      <td>2.8</td>\n",
       "      <td>NaN</td>\n",
       "      <td>2.2</td>\n",
       "      <td>8.0</td>\n",
       "      <td>1016.1</td>\n",
       "      <td>140.0</td>\n",
       "      <td>5.1</td>\n",
       "    </tr>\n",
       "    <tr>\n",
       "      <th>277242</th>\n",
       "      <td>15</td>\n",
       "      <td>2018-12-31 23:00:00</td>\n",
       "      <td>3.3</td>\n",
       "      <td>NaN</td>\n",
       "      <td>2.2</td>\n",
       "      <td>20.0</td>\n",
       "      <td>1014.7</td>\n",
       "      <td>140.0</td>\n",
       "      <td>5.1</td>\n",
       "    </tr>\n",
       "  </tbody>\n",
       "</table>\n",
       "<p>277243 rows × 9 columns</p>\n",
       "</div>"
      ],
      "text/plain": [
       "        site_id            timestamp  air_temperature  cloud_coverage  \\\n",
       "0             0  2017-01-01 00:00:00             17.8             4.0   \n",
       "1             0  2017-01-01 01:00:00             17.8             2.0   \n",
       "2             0  2017-01-01 02:00:00             16.1             0.0   \n",
       "3             0  2017-01-01 03:00:00             17.2             0.0   \n",
       "4             0  2017-01-01 04:00:00             16.7             2.0   \n",
       "...         ...                  ...              ...             ...   \n",
       "277238       15  2018-12-31 19:00:00              3.3             NaN   \n",
       "277239       15  2018-12-31 20:00:00              2.8             NaN   \n",
       "277240       15  2018-12-31 21:00:00              2.8             NaN   \n",
       "277241       15  2018-12-31 22:00:00              2.8             NaN   \n",
       "277242       15  2018-12-31 23:00:00              3.3             NaN   \n",
       "\n",
       "        dew_temperature  precip_depth_1_hr  sea_level_pressure  \\\n",
       "0                  11.7                NaN              1021.4   \n",
       "1                  12.8                0.0              1022.0   \n",
       "2                  12.8                0.0              1021.9   \n",
       "3                  13.3                0.0              1022.2   \n",
       "4                  13.3                0.0              1022.3   \n",
       "...                 ...                ...                 ...   \n",
       "277238              1.7                NaN              1018.3   \n",
       "277239              1.1                NaN              1017.8   \n",
       "277240              1.7               -1.0              1017.2   \n",
       "277241              2.2                8.0              1016.1   \n",
       "277242              2.2               20.0              1014.7   \n",
       "\n",
       "        wind_direction  wind_speed  \n",
       "0                100.0         3.6  \n",
       "1                130.0         3.1  \n",
       "2                140.0         3.1  \n",
       "3                140.0         3.1  \n",
       "4                130.0         2.6  \n",
       "...                ...         ...  \n",
       "277238           150.0         7.7  \n",
       "277239           140.0         5.1  \n",
       "277240           140.0         6.2  \n",
       "277241           140.0         5.1  \n",
       "277242           140.0         5.1  \n",
       "\n",
       "[277243 rows x 9 columns]"
      ]
     },
     "execution_count": 4,
     "metadata": {},
     "output_type": "execute_result"
    }
   ],
   "source": [
    "#import data cu\n",
    "file_ = 'weather_test.csv'\n",
    "cu = pd.read_csv(file_, low_memory= False, encoding='utf8')\n",
    "N, P = cu.shape\n",
    "print('baris = ', N, ', Kolom(jumlah variabel)= ', P)\n",
    "print(\"Tipe Variabel df = \", type(cu))\n",
    "cu"
   ]
  },
  {
   "cell_type": "markdown",
   "id": "a6c4d1d0",
   "metadata": {},
   "source": [
    "# A. Gabungan Data GD CU"
   ]
  },
  {
   "cell_type": "code",
   "execution_count": 5,
   "id": "bf43c314",
   "metadata": {},
   "outputs": [
    {
     "data": {
      "text/html": [
       "<div>\n",
       "<style scoped>\n",
       "    .dataframe tbody tr th:only-of-type {\n",
       "        vertical-align: middle;\n",
       "    }\n",
       "\n",
       "    .dataframe tbody tr th {\n",
       "        vertical-align: top;\n",
       "    }\n",
       "\n",
       "    .dataframe thead th {\n",
       "        text-align: right;\n",
       "    }\n",
       "</style>\n",
       "<table border=\"1\" class=\"dataframe\">\n",
       "  <thead>\n",
       "    <tr style=\"text-align: right;\">\n",
       "      <th></th>\n",
       "      <th>site_id</th>\n",
       "      <th>building_id</th>\n",
       "      <th>primary_use</th>\n",
       "      <th>square_feet</th>\n",
       "      <th>year_built</th>\n",
       "      <th>floor_count</th>\n",
       "      <th>timestamp</th>\n",
       "      <th>air_temperature</th>\n",
       "      <th>cloud_coverage</th>\n",
       "      <th>dew_temperature</th>\n",
       "      <th>precip_depth_1_hr</th>\n",
       "      <th>sea_level_pressure</th>\n",
       "      <th>wind_direction</th>\n",
       "      <th>wind_speed</th>\n",
       "    </tr>\n",
       "  </thead>\n",
       "  <tbody>\n",
       "    <tr>\n",
       "      <th>0</th>\n",
       "      <td>0</td>\n",
       "      <td>0</td>\n",
       "      <td>Education</td>\n",
       "      <td>7432</td>\n",
       "      <td>2008.0</td>\n",
       "      <td>NaN</td>\n",
       "      <td>2017-01-01 00:00:00</td>\n",
       "      <td>17.8</td>\n",
       "      <td>4.0</td>\n",
       "      <td>11.7</td>\n",
       "      <td>NaN</td>\n",
       "      <td>1021.4</td>\n",
       "      <td>100.0</td>\n",
       "      <td>3.6</td>\n",
       "    </tr>\n",
       "    <tr>\n",
       "      <th>1</th>\n",
       "      <td>0</td>\n",
       "      <td>0</td>\n",
       "      <td>Education</td>\n",
       "      <td>7432</td>\n",
       "      <td>2008.0</td>\n",
       "      <td>NaN</td>\n",
       "      <td>2017-01-01 01:00:00</td>\n",
       "      <td>17.8</td>\n",
       "      <td>2.0</td>\n",
       "      <td>12.8</td>\n",
       "      <td>0.0</td>\n",
       "      <td>1022.0</td>\n",
       "      <td>130.0</td>\n",
       "      <td>3.1</td>\n",
       "    </tr>\n",
       "    <tr>\n",
       "      <th>2</th>\n",
       "      <td>0</td>\n",
       "      <td>0</td>\n",
       "      <td>Education</td>\n",
       "      <td>7432</td>\n",
       "      <td>2008.0</td>\n",
       "      <td>NaN</td>\n",
       "      <td>2017-01-01 02:00:00</td>\n",
       "      <td>16.1</td>\n",
       "      <td>0.0</td>\n",
       "      <td>12.8</td>\n",
       "      <td>0.0</td>\n",
       "      <td>1021.9</td>\n",
       "      <td>140.0</td>\n",
       "      <td>3.1</td>\n",
       "    </tr>\n",
       "    <tr>\n",
       "      <th>3</th>\n",
       "      <td>0</td>\n",
       "      <td>0</td>\n",
       "      <td>Education</td>\n",
       "      <td>7432</td>\n",
       "      <td>2008.0</td>\n",
       "      <td>NaN</td>\n",
       "      <td>2017-01-01 03:00:00</td>\n",
       "      <td>17.2</td>\n",
       "      <td>0.0</td>\n",
       "      <td>13.3</td>\n",
       "      <td>0.0</td>\n",
       "      <td>1022.2</td>\n",
       "      <td>140.0</td>\n",
       "      <td>3.1</td>\n",
       "    </tr>\n",
       "    <tr>\n",
       "      <th>4</th>\n",
       "      <td>0</td>\n",
       "      <td>0</td>\n",
       "      <td>Education</td>\n",
       "      <td>7432</td>\n",
       "      <td>2008.0</td>\n",
       "      <td>NaN</td>\n",
       "      <td>2017-01-01 04:00:00</td>\n",
       "      <td>16.7</td>\n",
       "      <td>2.0</td>\n",
       "      <td>13.3</td>\n",
       "      <td>0.0</td>\n",
       "      <td>1022.3</td>\n",
       "      <td>130.0</td>\n",
       "      <td>2.6</td>\n",
       "    </tr>\n",
       "    <tr>\n",
       "      <th>...</th>\n",
       "      <td>...</td>\n",
       "      <td>...</td>\n",
       "      <td>...</td>\n",
       "      <td>...</td>\n",
       "      <td>...</td>\n",
       "      <td>...</td>\n",
       "      <td>...</td>\n",
       "      <td>...</td>\n",
       "      <td>...</td>\n",
       "      <td>...</td>\n",
       "      <td>...</td>\n",
       "      <td>...</td>\n",
       "      <td>...</td>\n",
       "      <td>...</td>\n",
       "    </tr>\n",
       "    <tr>\n",
       "      <th>25273981</th>\n",
       "      <td>15</td>\n",
       "      <td>1448</td>\n",
       "      <td>Office</td>\n",
       "      <td>92271</td>\n",
       "      <td>2001.0</td>\n",
       "      <td>NaN</td>\n",
       "      <td>2018-12-31 19:00:00</td>\n",
       "      <td>3.3</td>\n",
       "      <td>NaN</td>\n",
       "      <td>1.7</td>\n",
       "      <td>NaN</td>\n",
       "      <td>1018.3</td>\n",
       "      <td>150.0</td>\n",
       "      <td>7.7</td>\n",
       "    </tr>\n",
       "    <tr>\n",
       "      <th>25273982</th>\n",
       "      <td>15</td>\n",
       "      <td>1448</td>\n",
       "      <td>Office</td>\n",
       "      <td>92271</td>\n",
       "      <td>2001.0</td>\n",
       "      <td>NaN</td>\n",
       "      <td>2018-12-31 20:00:00</td>\n",
       "      <td>2.8</td>\n",
       "      <td>NaN</td>\n",
       "      <td>1.1</td>\n",
       "      <td>NaN</td>\n",
       "      <td>1017.8</td>\n",
       "      <td>140.0</td>\n",
       "      <td>5.1</td>\n",
       "    </tr>\n",
       "    <tr>\n",
       "      <th>25273983</th>\n",
       "      <td>15</td>\n",
       "      <td>1448</td>\n",
       "      <td>Office</td>\n",
       "      <td>92271</td>\n",
       "      <td>2001.0</td>\n",
       "      <td>NaN</td>\n",
       "      <td>2018-12-31 21:00:00</td>\n",
       "      <td>2.8</td>\n",
       "      <td>NaN</td>\n",
       "      <td>1.7</td>\n",
       "      <td>-1.0</td>\n",
       "      <td>1017.2</td>\n",
       "      <td>140.0</td>\n",
       "      <td>6.2</td>\n",
       "    </tr>\n",
       "    <tr>\n",
       "      <th>25273984</th>\n",
       "      <td>15</td>\n",
       "      <td>1448</td>\n",
       "      <td>Office</td>\n",
       "      <td>92271</td>\n",
       "      <td>2001.0</td>\n",
       "      <td>NaN</td>\n",
       "      <td>2018-12-31 22:00:00</td>\n",
       "      <td>2.8</td>\n",
       "      <td>NaN</td>\n",
       "      <td>2.2</td>\n",
       "      <td>8.0</td>\n",
       "      <td>1016.1</td>\n",
       "      <td>140.0</td>\n",
       "      <td>5.1</td>\n",
       "    </tr>\n",
       "    <tr>\n",
       "      <th>25273985</th>\n",
       "      <td>15</td>\n",
       "      <td>1448</td>\n",
       "      <td>Office</td>\n",
       "      <td>92271</td>\n",
       "      <td>2001.0</td>\n",
       "      <td>NaN</td>\n",
       "      <td>2018-12-31 23:00:00</td>\n",
       "      <td>3.3</td>\n",
       "      <td>NaN</td>\n",
       "      <td>2.2</td>\n",
       "      <td>20.0</td>\n",
       "      <td>1014.7</td>\n",
       "      <td>140.0</td>\n",
       "      <td>5.1</td>\n",
       "    </tr>\n",
       "  </tbody>\n",
       "</table>\n",
       "<p>25273986 rows × 14 columns</p>\n",
       "</div>"
      ],
      "text/plain": [
       "          site_id  building_id primary_use  square_feet  year_built  \\\n",
       "0               0            0   Education         7432      2008.0   \n",
       "1               0            0   Education         7432      2008.0   \n",
       "2               0            0   Education         7432      2008.0   \n",
       "3               0            0   Education         7432      2008.0   \n",
       "4               0            0   Education         7432      2008.0   \n",
       "...           ...          ...         ...          ...         ...   \n",
       "25273981       15         1448      Office        92271      2001.0   \n",
       "25273982       15         1448      Office        92271      2001.0   \n",
       "25273983       15         1448      Office        92271      2001.0   \n",
       "25273984       15         1448      Office        92271      2001.0   \n",
       "25273985       15         1448      Office        92271      2001.0   \n",
       "\n",
       "          floor_count            timestamp  air_temperature  cloud_coverage  \\\n",
       "0                 NaN  2017-01-01 00:00:00             17.8             4.0   \n",
       "1                 NaN  2017-01-01 01:00:00             17.8             2.0   \n",
       "2                 NaN  2017-01-01 02:00:00             16.1             0.0   \n",
       "3                 NaN  2017-01-01 03:00:00             17.2             0.0   \n",
       "4                 NaN  2017-01-01 04:00:00             16.7             2.0   \n",
       "...               ...                  ...              ...             ...   \n",
       "25273981          NaN  2018-12-31 19:00:00              3.3             NaN   \n",
       "25273982          NaN  2018-12-31 20:00:00              2.8             NaN   \n",
       "25273983          NaN  2018-12-31 21:00:00              2.8             NaN   \n",
       "25273984          NaN  2018-12-31 22:00:00              2.8             NaN   \n",
       "25273985          NaN  2018-12-31 23:00:00              3.3             NaN   \n",
       "\n",
       "          dew_temperature  precip_depth_1_hr  sea_level_pressure  \\\n",
       "0                    11.7                NaN              1021.4   \n",
       "1                    12.8                0.0              1022.0   \n",
       "2                    12.8                0.0              1021.9   \n",
       "3                    13.3                0.0              1022.2   \n",
       "4                    13.3                0.0              1022.3   \n",
       "...                   ...                ...                 ...   \n",
       "25273981              1.7                NaN              1018.3   \n",
       "25273982              1.1                NaN              1017.8   \n",
       "25273983              1.7               -1.0              1017.2   \n",
       "25273984              2.2                8.0              1016.1   \n",
       "25273985              2.2               20.0              1014.7   \n",
       "\n",
       "          wind_direction  wind_speed  \n",
       "0                  100.0         3.6  \n",
       "1                  130.0         3.1  \n",
       "2                  140.0         3.1  \n",
       "3                  140.0         3.1  \n",
       "4                  130.0         2.6  \n",
       "...                  ...         ...  \n",
       "25273981           150.0         7.7  \n",
       "25273982           140.0         5.1  \n",
       "25273983           140.0         6.2  \n",
       "25273984           140.0         5.1  \n",
       "25273985           140.0         5.1  \n",
       "\n",
       "[25273986 rows x 14 columns]"
      ]
     },
     "execution_count": 5,
     "metadata": {},
     "output_type": "execute_result"
    }
   ],
   "source": [
    "gdcu = pd.merge(gd, cu, on=['site_id'])\n",
    "pd.merge(gd, cu)"
   ]
  },
  {
   "cell_type": "markdown",
   "id": "f7e08493",
   "metadata": {},
   "source": [
    "Karena pada tugas kita tidak memerlukan timestamp dan site_id pada data cu, maka kita bisa hilangkan kedua kolom tersebut menggunakan drop."
   ]
  },
  {
   "cell_type": "code",
   "execution_count": 6,
   "id": "57d322b1",
   "metadata": {},
   "outputs": [
    {
     "data": {
      "text/html": [
       "<div>\n",
       "<style scoped>\n",
       "    .dataframe tbody tr th:only-of-type {\n",
       "        vertical-align: middle;\n",
       "    }\n",
       "\n",
       "    .dataframe tbody tr th {\n",
       "        vertical-align: top;\n",
       "    }\n",
       "\n",
       "    .dataframe thead th {\n",
       "        text-align: right;\n",
       "    }\n",
       "</style>\n",
       "<table border=\"1\" class=\"dataframe\">\n",
       "  <thead>\n",
       "    <tr style=\"text-align: right;\">\n",
       "      <th></th>\n",
       "      <th>site_id</th>\n",
       "      <th>building_id</th>\n",
       "      <th>primary_use</th>\n",
       "      <th>square_feet</th>\n",
       "      <th>year_built</th>\n",
       "      <th>floor_count</th>\n",
       "      <th>air_temperature</th>\n",
       "      <th>cloud_coverage</th>\n",
       "      <th>dew_temperature</th>\n",
       "      <th>precip_depth_1_hr</th>\n",
       "      <th>sea_level_pressure</th>\n",
       "      <th>wind_direction</th>\n",
       "      <th>wind_speed</th>\n",
       "    </tr>\n",
       "  </thead>\n",
       "  <tbody>\n",
       "    <tr>\n",
       "      <th>0</th>\n",
       "      <td>0</td>\n",
       "      <td>0</td>\n",
       "      <td>Education</td>\n",
       "      <td>7432</td>\n",
       "      <td>2008.0</td>\n",
       "      <td>NaN</td>\n",
       "      <td>17.8</td>\n",
       "      <td>4.0</td>\n",
       "      <td>11.7</td>\n",
       "      <td>NaN</td>\n",
       "      <td>1021.4</td>\n",
       "      <td>100.0</td>\n",
       "      <td>3.6</td>\n",
       "    </tr>\n",
       "    <tr>\n",
       "      <th>1</th>\n",
       "      <td>0</td>\n",
       "      <td>0</td>\n",
       "      <td>Education</td>\n",
       "      <td>7432</td>\n",
       "      <td>2008.0</td>\n",
       "      <td>NaN</td>\n",
       "      <td>17.8</td>\n",
       "      <td>2.0</td>\n",
       "      <td>12.8</td>\n",
       "      <td>0.0</td>\n",
       "      <td>1022.0</td>\n",
       "      <td>130.0</td>\n",
       "      <td>3.1</td>\n",
       "    </tr>\n",
       "    <tr>\n",
       "      <th>2</th>\n",
       "      <td>0</td>\n",
       "      <td>0</td>\n",
       "      <td>Education</td>\n",
       "      <td>7432</td>\n",
       "      <td>2008.0</td>\n",
       "      <td>NaN</td>\n",
       "      <td>16.1</td>\n",
       "      <td>0.0</td>\n",
       "      <td>12.8</td>\n",
       "      <td>0.0</td>\n",
       "      <td>1021.9</td>\n",
       "      <td>140.0</td>\n",
       "      <td>3.1</td>\n",
       "    </tr>\n",
       "    <tr>\n",
       "      <th>3</th>\n",
       "      <td>0</td>\n",
       "      <td>0</td>\n",
       "      <td>Education</td>\n",
       "      <td>7432</td>\n",
       "      <td>2008.0</td>\n",
       "      <td>NaN</td>\n",
       "      <td>17.2</td>\n",
       "      <td>0.0</td>\n",
       "      <td>13.3</td>\n",
       "      <td>0.0</td>\n",
       "      <td>1022.2</td>\n",
       "      <td>140.0</td>\n",
       "      <td>3.1</td>\n",
       "    </tr>\n",
       "    <tr>\n",
       "      <th>4</th>\n",
       "      <td>0</td>\n",
       "      <td>0</td>\n",
       "      <td>Education</td>\n",
       "      <td>7432</td>\n",
       "      <td>2008.0</td>\n",
       "      <td>NaN</td>\n",
       "      <td>16.7</td>\n",
       "      <td>2.0</td>\n",
       "      <td>13.3</td>\n",
       "      <td>0.0</td>\n",
       "      <td>1022.3</td>\n",
       "      <td>130.0</td>\n",
       "      <td>2.6</td>\n",
       "    </tr>\n",
       "    <tr>\n",
       "      <th>...</th>\n",
       "      <td>...</td>\n",
       "      <td>...</td>\n",
       "      <td>...</td>\n",
       "      <td>...</td>\n",
       "      <td>...</td>\n",
       "      <td>...</td>\n",
       "      <td>...</td>\n",
       "      <td>...</td>\n",
       "      <td>...</td>\n",
       "      <td>...</td>\n",
       "      <td>...</td>\n",
       "      <td>...</td>\n",
       "      <td>...</td>\n",
       "    </tr>\n",
       "    <tr>\n",
       "      <th>25273981</th>\n",
       "      <td>15</td>\n",
       "      <td>1448</td>\n",
       "      <td>Office</td>\n",
       "      <td>92271</td>\n",
       "      <td>2001.0</td>\n",
       "      <td>NaN</td>\n",
       "      <td>3.3</td>\n",
       "      <td>NaN</td>\n",
       "      <td>1.7</td>\n",
       "      <td>NaN</td>\n",
       "      <td>1018.3</td>\n",
       "      <td>150.0</td>\n",
       "      <td>7.7</td>\n",
       "    </tr>\n",
       "    <tr>\n",
       "      <th>25273982</th>\n",
       "      <td>15</td>\n",
       "      <td>1448</td>\n",
       "      <td>Office</td>\n",
       "      <td>92271</td>\n",
       "      <td>2001.0</td>\n",
       "      <td>NaN</td>\n",
       "      <td>2.8</td>\n",
       "      <td>NaN</td>\n",
       "      <td>1.1</td>\n",
       "      <td>NaN</td>\n",
       "      <td>1017.8</td>\n",
       "      <td>140.0</td>\n",
       "      <td>5.1</td>\n",
       "    </tr>\n",
       "    <tr>\n",
       "      <th>25273983</th>\n",
       "      <td>15</td>\n",
       "      <td>1448</td>\n",
       "      <td>Office</td>\n",
       "      <td>92271</td>\n",
       "      <td>2001.0</td>\n",
       "      <td>NaN</td>\n",
       "      <td>2.8</td>\n",
       "      <td>NaN</td>\n",
       "      <td>1.7</td>\n",
       "      <td>-1.0</td>\n",
       "      <td>1017.2</td>\n",
       "      <td>140.0</td>\n",
       "      <td>6.2</td>\n",
       "    </tr>\n",
       "    <tr>\n",
       "      <th>25273984</th>\n",
       "      <td>15</td>\n",
       "      <td>1448</td>\n",
       "      <td>Office</td>\n",
       "      <td>92271</td>\n",
       "      <td>2001.0</td>\n",
       "      <td>NaN</td>\n",
       "      <td>2.8</td>\n",
       "      <td>NaN</td>\n",
       "      <td>2.2</td>\n",
       "      <td>8.0</td>\n",
       "      <td>1016.1</td>\n",
       "      <td>140.0</td>\n",
       "      <td>5.1</td>\n",
       "    </tr>\n",
       "    <tr>\n",
       "      <th>25273985</th>\n",
       "      <td>15</td>\n",
       "      <td>1448</td>\n",
       "      <td>Office</td>\n",
       "      <td>92271</td>\n",
       "      <td>2001.0</td>\n",
       "      <td>NaN</td>\n",
       "      <td>3.3</td>\n",
       "      <td>NaN</td>\n",
       "      <td>2.2</td>\n",
       "      <td>20.0</td>\n",
       "      <td>1014.7</td>\n",
       "      <td>140.0</td>\n",
       "      <td>5.1</td>\n",
       "    </tr>\n",
       "  </tbody>\n",
       "</table>\n",
       "<p>25273986 rows × 13 columns</p>\n",
       "</div>"
      ],
      "text/plain": [
       "          site_id  building_id primary_use  square_feet  year_built  \\\n",
       "0               0            0   Education         7432      2008.0   \n",
       "1               0            0   Education         7432      2008.0   \n",
       "2               0            0   Education         7432      2008.0   \n",
       "3               0            0   Education         7432      2008.0   \n",
       "4               0            0   Education         7432      2008.0   \n",
       "...           ...          ...         ...          ...         ...   \n",
       "25273981       15         1448      Office        92271      2001.0   \n",
       "25273982       15         1448      Office        92271      2001.0   \n",
       "25273983       15         1448      Office        92271      2001.0   \n",
       "25273984       15         1448      Office        92271      2001.0   \n",
       "25273985       15         1448      Office        92271      2001.0   \n",
       "\n",
       "          floor_count  air_temperature  cloud_coverage  dew_temperature  \\\n",
       "0                 NaN             17.8             4.0             11.7   \n",
       "1                 NaN             17.8             2.0             12.8   \n",
       "2                 NaN             16.1             0.0             12.8   \n",
       "3                 NaN             17.2             0.0             13.3   \n",
       "4                 NaN             16.7             2.0             13.3   \n",
       "...               ...              ...             ...              ...   \n",
       "25273981          NaN              3.3             NaN              1.7   \n",
       "25273982          NaN              2.8             NaN              1.1   \n",
       "25273983          NaN              2.8             NaN              1.7   \n",
       "25273984          NaN              2.8             NaN              2.2   \n",
       "25273985          NaN              3.3             NaN              2.2   \n",
       "\n",
       "          precip_depth_1_hr  sea_level_pressure  wind_direction  wind_speed  \n",
       "0                       NaN              1021.4           100.0         3.6  \n",
       "1                       0.0              1022.0           130.0         3.1  \n",
       "2                       0.0              1021.9           140.0         3.1  \n",
       "3                       0.0              1022.2           140.0         3.1  \n",
       "4                       0.0              1022.3           130.0         2.6  \n",
       "...                     ...                 ...             ...         ...  \n",
       "25273981                NaN              1018.3           150.0         7.7  \n",
       "25273982                NaN              1017.8           140.0         5.1  \n",
       "25273983               -1.0              1017.2           140.0         6.2  \n",
       "25273984                8.0              1016.1           140.0         5.1  \n",
       "25273985               20.0              1014.7           140.0         5.1  \n",
       "\n",
       "[25273986 rows x 13 columns]"
      ]
     },
     "execution_count": 6,
     "metadata": {},
     "output_type": "execute_result"
    }
   ],
   "source": [
    "gdcu.drop('timestamp', axis = 1, inplace = True)\n",
    "gdcu"
   ]
  },
  {
   "cell_type": "markdown",
   "id": "22b7339b",
   "metadata": {},
   "source": [
    "## Preprocessing "
   ]
  },
  {
   "cell_type": "markdown",
   "id": "9302b4d1",
   "metadata": {},
   "source": [
    "**1. Missing Value gdcu**"
   ]
  },
  {
   "cell_type": "code",
   "execution_count": 7,
   "id": "b4c2642e",
   "metadata": {},
   "outputs": [
    {
     "data": {
      "text/plain": [
       "site_id                      0\n",
       "building_id                  0\n",
       "primary_use                  0\n",
       "square_feet                  0\n",
       "year_built            13531915\n",
       "floor_count           19109158\n",
       "air_temperature          10534\n",
       "cloud_coverage        11755894\n",
       "dew_temperature          26596\n",
       "precip_depth_1_hr      5100401\n",
       "sea_level_pressure     1983259\n",
       "wind_direction         1315776\n",
       "wind_speed               44874\n",
       "dtype: int64"
      ]
     },
     "execution_count": 7,
     "metadata": {},
     "output_type": "execute_result"
    }
   ],
   "source": [
    "gdcu.isnull().sum()"
   ]
  },
  {
   "cell_type": "markdown",
   "id": "d8c944f5",
   "metadata": {},
   "source": [
    "Dapat dilihat pada output di atas, bahwa terdapat MV pada kolom :\n",
    "- year_built sebanyak 13531915\n",
    "- floor_count sebanyak 19109158\n",
    "- air_temperature sebanyak 10534\n",
    "- cloud_coverage sebanyak 11755894\n",
    "- dew_temperature sebanyak 26596\n",
    "- precip_depth_1_hr sebanyak 5100401\n",
    "- sea_level_pressure sebanyak 1983259\n",
    "- wind_direction sebanyak 1315776\n",
    "- wind_speed sebanyak 44874.\n",
    "\n",
    "Karena pada floor_count terdapat lebih dari 50% Missing Value maka kita hilangkan saja kolom floor_count tersebut menggunakan drop dan untuk Missing Value yang lain bisa kita handle dengan menggantikan nilai MV dengan 0 supaya tidak terdapat MV lagi pada data."
   ]
  },
  {
   "cell_type": "code",
   "execution_count": 8,
   "id": "12c2ff0c",
   "metadata": {
    "scrolled": true
   },
   "outputs": [
    {
     "data": {
      "text/plain": [
       "site_id               0\n",
       "building_id           0\n",
       "primary_use           0\n",
       "square_feet           0\n",
       "year_built            0\n",
       "air_temperature       0\n",
       "cloud_coverage        0\n",
       "dew_temperature       0\n",
       "precip_depth_1_hr     0\n",
       "sea_level_pressure    0\n",
       "wind_direction        0\n",
       "wind_speed            0\n",
       "dtype: int64"
      ]
     },
     "execution_count": 8,
     "metadata": {},
     "output_type": "execute_result"
    }
   ],
   "source": [
    "gdcu.drop('floor_count', axis = 1,inplace = True)#untuk menghilangkan\n",
    "gdcu.fillna(0, inplace = True) #untuk mengatasi MV lainnya \n",
    "gdcu.isnull().sum()"
   ]
  },
  {
   "cell_type": "markdown",
   "id": "b38c6564",
   "metadata": {},
   "source": [
    "Dengan mengisi Missing Value dengan 0 dan mendrop floor_count maka Missing Value sudah teratasi"
   ]
  },
  {
   "cell_type": "markdown",
   "id": "03875f44",
   "metadata": {},
   "source": [
    "**2. Duplicated Data**"
   ]
  },
  {
   "cell_type": "code",
   "execution_count": 9,
   "id": "72784e4a",
   "metadata": {},
   "outputs": [
    {
     "name": "stdout",
     "output_type": "stream",
     "text": [
      "(25273986, 12)\n"
     ]
    },
    {
     "data": {
      "text/plain": [
       "441152"
      ]
     },
     "execution_count": 9,
     "metadata": {},
     "output_type": "execute_result"
    }
   ],
   "source": [
    "print(gdcu.shape)\n",
    "gdcu.duplicated().sum() #melihat jumlah duplicated data pada gdcu"
   ]
  },
  {
   "cell_type": "code",
   "execution_count": 10,
   "id": "2471fab8",
   "metadata": {},
   "outputs": [
    {
     "name": "stdout",
     "output_type": "stream",
     "text": [
      "(24832834, 12)\n"
     ]
    },
    {
     "data": {
      "text/plain": [
       "0"
      ]
     },
     "execution_count": 10,
     "metadata": {},
     "output_type": "execute_result"
    }
   ],
   "source": [
    "gdcu.drop_duplicates(inplace = True)\n",
    "print(gdcu.shape)\n",
    "gdcu.duplicated().sum()"
   ]
  },
  {
   "cell_type": "markdown",
   "id": "0d732e16",
   "metadata": {},
   "source": [
    "Karena missing value dan duplicated data sudah tertasi maka kita bisa melanjutkan ke pengecekan putlier"
   ]
  },
  {
   "cell_type": "markdown",
   "id": "8b248931",
   "metadata": {},
   "source": [
    "**3. Outlier**"
   ]
  },
  {
   "cell_type": "code",
   "execution_count": 11,
   "id": "3498f00f",
   "metadata": {},
   "outputs": [
    {
     "name": "stdout",
     "output_type": "stream",
     "text": [
      "Q1 = 2.1\n",
      "Q2 = 4.6\n",
      "IQR = 2.4999999999999996\n"
     ]
    }
   ],
   "source": [
    "#outlier pada kolom wind_speed\n",
    "# Deteksi Outlier menggunakan nilai IQR\n",
    "\n",
    "Q1 = gdcu.wind_speed.quantile(0.25)\n",
    "Q3 = gdcu.wind_speed.quantile(0.75)\n",
    "IQR = Q3 - Q1\n",
    "print('Q1 =', Q1)\n",
    "print('Q2 =', Q3)\n",
    "print('IQR =', IQR)"
   ]
  },
  {
   "cell_type": "code",
   "execution_count": 12,
   "id": "fb22dd23",
   "metadata": {},
   "outputs": [
    {
     "name": "stdout",
     "output_type": "stream",
     "text": [
      "batas bawah = -1.649999999999999\n",
      "batas atas = 8.349999999999998\n"
     ]
    }
   ],
   "source": [
    "# Menentukan batas bawah dan batas atas\n",
    "\n",
    "batasBawah = Q1 - (1.5 * IQR)\n",
    "batasAtas = Q3 + (1.5 * IQR)\n",
    "print('batas bawah =', batasBawah)\n",
    "print('batas atas =', batasAtas)"
   ]
  },
  {
   "cell_type": "code",
   "execution_count": 13,
   "id": "7e543f92",
   "metadata": {},
   "outputs": [
    {
     "data": {
      "text/plain": [
       "Text(0.5, 1.0, 'Wind Speed Boxplot')"
      ]
     },
     "execution_count": 13,
     "metadata": {},
     "output_type": "execute_result"
    },
    {
     "data": {
      "image/png": "[encoded data removed]",
      "text/plain": [
       "<Figure size 1080x288 with 1 Axes>"
      ]
     },
     "metadata": {
      "needs_background": "light"
     },
     "output_type": "display_data"
    }
   ],
   "source": [
    "#Mengecek outlier menggunakan visualisasi boxplot\n",
    "fig, ax = plt.subplots(figsize = (15,4))\n",
    "sns.boxplot(x = gdcu.wind_speed).set_title('Wind Speed Boxplot')"
   ]
  },
  {
   "cell_type": "code",
   "execution_count": 14,
   "id": "30558c57",
   "metadata": {},
   "outputs": [
    {
     "name": "stdout",
     "output_type": "stream",
     "text": [
      "Q1 = 2.1\n",
      "Q2 = 4.6\n",
      "IQR = 2.4999999999999996\n"
     ]
    }
   ],
   "source": [
    "# Deteksi Outlier menggunakan nilai IQR\n",
    "Q1 = gdcu.wind_speed.quantile(0.25)\n",
    "Q3 = gdcu.wind_speed.quantile(0.75)\n",
    "IQR = Q3 - Q1\n",
    "print('Q1 =', Q1)\n",
    "print('Q2 =', Q3)\n",
    "print('IQR =', IQR)"
   ]
  },
  {
   "cell_type": "code",
   "execution_count": 15,
   "id": "5b576a7a",
   "metadata": {},
   "outputs": [
    {
     "name": "stdout",
     "output_type": "stream",
     "text": [
      "batas bawah = -1.649999999999999\n",
      "batas atas = 8.349999999999998\n"
     ]
    }
   ],
   "source": [
    "# Menentukan batas bawah dan batas atas\n",
    "\n",
    "batasBawah = Q1 - (1.5 * IQR)\n",
    "batasAtas = Q3 + (1.5 * IQR)\n",
    "print('batas bawah =', batasBawah)\n",
    "print('batas atas =', batasAtas)"
   ]
  },
  {
   "cell_type": "code",
   "execution_count": 16,
   "id": "8f8122c3",
   "metadata": {},
   "outputs": [
    {
     "data": {
      "image/png": "[encoded data removed]",
      "text/plain": [
       "<Figure size 1080x504 with 1 Axes>"
      ]
     },
     "metadata": {
      "needs_background": "light"
     },
     "output_type": "display_data"
    }
   ],
   "source": [
    "# handle outlier dengan replace menggantinya dengan nilai mean\n",
    "\n",
    "gdcu['wind_speed'] = gdcu.wind_speed.mask(gdcu.wind_speed > batasAtas, gdcu.wind_speed.mean())\n",
    "gdcu['wind_speed'] = gdcu.wind_speed.mask(gdcu.wind_speed < batasBawah, gdcu.wind_speed.mean())\n",
    "fig, ax = plt.subplots(figsize = (15,7))\n",
    "fig = sns.boxplot(x = gdcu.wind_speed).set_title('Wind Speed Boxplot')"
   ]
  },
  {
   "cell_type": "code",
   "execution_count": 17,
   "id": "744ac9bc",
   "metadata": {},
   "outputs": [
    {
     "data": {
      "text/plain": [
       "Text(0.5, 1.0, 'Wind Direction')"
      ]
     },
     "execution_count": 17,
     "metadata": {},
     "output_type": "execute_result"
    },
    {
     "data": {
      "image/png": "[encoded data removed]",
      "text/plain": [
       "<Figure size 1080x288 with 1 Axes>"
      ]
     },
     "metadata": {
      "needs_background": "light"
     },
     "output_type": "display_data"
    }
   ],
   "source": [
    "#Cek oulier kolom Wind Direction\n",
    "fig, ax = plt.subplots(figsize = (15,4))\n",
    "sns.boxplot(x = gdcu.wind_direction).set_title('Wind Direction')"
   ]
  },
  {
   "cell_type": "code",
   "execution_count": 18,
   "id": "687a1a26",
   "metadata": {},
   "outputs": [
    {
     "data": {
      "text/plain": [
       "Text(0.5, 1.0, 'Sea Level Pressure')"
      ]
     },
     "execution_count": 18,
     "metadata": {},
     "output_type": "execute_result"
    },
    {
     "data": {
      "image/png": "[encoded data removed]",
      "text/plain": [
       "<Figure size 432x288 with 1 Axes>"
      ]
     },
     "metadata": {
      "needs_background": "light"
     },
     "output_type": "display_data"
    },
    {
     "data": {
      "image/png": "[encoded data removed]",
      "text/plain": [
       "<Figure size 1008x432 with 1 Axes>"
      ]
     },
     "metadata": {
      "needs_background": "light"
     },
     "output_type": "display_data"
    }
   ],
   "source": [
    "#Cek outlier kolom sea_level_pressure\n",
    "gdcu.boxplot(column = 'sea_level_pressure')\n",
    "fig, ax = plt.subplots(figsize = (14,6))\n",
    "sns.boxplot(x = gdcu.sea_level_pressure).set_title('Sea Level Pressure')"
   ]
  },
  {
   "cell_type": "code",
   "execution_count": 19,
   "id": "a62a5a97",
   "metadata": {},
   "outputs": [
    {
     "name": "stdout",
     "output_type": "stream",
     "text": [
      "Q1 = 1010.7\n",
      "Q2 = 1020.4\n",
      "IQR = 9.699999999999932\n"
     ]
    }
   ],
   "source": [
    "# Deteksi Outlier menggunakan nilai IQR\n",
    "\n",
    "Q1 = gdcu.sea_level_pressure.quantile(0.25)\n",
    "Q3 = gdcu.sea_level_pressure.quantile(0.75)\n",
    "IQR = Q3 - Q1\n",
    "print('Q1 =', Q1)\n",
    "print('Q2 =', Q3)\n",
    "print('IQR =', IQR)"
   ]
  },
  {
   "cell_type": "code",
   "execution_count": 20,
   "id": "f60c0e7a",
   "metadata": {},
   "outputs": [
    {
     "name": "stdout",
     "output_type": "stream",
     "text": [
      "batas bawah = 996.1500000000001\n",
      "batas atas = 1034.9499999999998\n"
     ]
    }
   ],
   "source": [
    "# Menentukan batas bawah dan batas atas\n",
    "\n",
    "batasBawah = Q1 - (1.5 * IQR)\n",
    "batasAtas = Q3 + (1.5 * IQR)\n",
    "print('batas bawah =', batasBawah)\n",
    "print('batas atas =', batasAtas)"
   ]
  },
  {
   "cell_type": "code",
   "execution_count": 21,
   "id": "fe0611d9",
   "metadata": {},
   "outputs": [
    {
     "data": {
      "image/png": "[encoded data removed]",
      "text/plain": [
       "<Figure size 1080x504 with 1 Axes>"
      ]
     },
     "metadata": {
      "needs_background": "light"
     },
     "output_type": "display_data"
    }
   ],
   "source": [
    "# handle outlier dengan replace menggantinya dengan nilai mean\n",
    "\n",
    "gdcu['sea_level_pressure'] = gdcu.sea_level_pressure.mask(gdcu.sea_level_pressure > batasAtas, gdcu.sea_level_pressure.mean())\n",
    "gdcu['sea_level_pressure'] = gdcu.sea_level_pressure.mask(gdcu.sea_level_pressure < batasBawah, gdcu.sea_level_pressure.mean())\n",
    "fig, ax = plt.subplots(figsize = (15,7))\n",
    "fig = sns.boxplot(x = gdcu.sea_level_pressure).set_title('Sea Level Pressure Boxplot')"
   ]
  },
  {
   "cell_type": "code",
   "execution_count": 22,
   "id": "c11f8d4b",
   "metadata": {},
   "outputs": [
    {
     "data": {
      "text/html": [
       "<div>\n",
       "<style scoped>\n",
       "    .dataframe tbody tr th:only-of-type {\n",
       "        vertical-align: middle;\n",
       "    }\n",
       "\n",
       "    .dataframe tbody tr th {\n",
       "        vertical-align: top;\n",
       "    }\n",
       "\n",
       "    .dataframe thead th {\n",
       "        text-align: right;\n",
       "    }\n",
       "</style>\n",
       "<table border=\"1\" class=\"dataframe\">\n",
       "  <thead>\n",
       "    <tr style=\"text-align: right;\">\n",
       "      <th></th>\n",
       "      <th>site_id</th>\n",
       "      <th>building_id</th>\n",
       "      <th>primary_use</th>\n",
       "      <th>square_feet</th>\n",
       "      <th>year_built</th>\n",
       "      <th>air_temperature</th>\n",
       "      <th>cloud_coverage</th>\n",
       "      <th>dew_temperature</th>\n",
       "      <th>precip_depth_1_hr</th>\n",
       "      <th>sea_level_pressure</th>\n",
       "      <th>wind_direction</th>\n",
       "      <th>wind_speed</th>\n",
       "    </tr>\n",
       "  </thead>\n",
       "  <tbody>\n",
       "    <tr>\n",
       "      <th>0</th>\n",
       "      <td>0</td>\n",
       "      <td>0</td>\n",
       "      <td>Education</td>\n",
       "      <td>7432</td>\n",
       "      <td>2008.0</td>\n",
       "      <td>17.8</td>\n",
       "      <td>4.0</td>\n",
       "      <td>11.7</td>\n",
       "      <td>0.0</td>\n",
       "      <td>1021.4</td>\n",
       "      <td>100.0</td>\n",
       "      <td>3.6</td>\n",
       "    </tr>\n",
       "    <tr>\n",
       "      <th>1</th>\n",
       "      <td>0</td>\n",
       "      <td>0</td>\n",
       "      <td>Education</td>\n",
       "      <td>7432</td>\n",
       "      <td>2008.0</td>\n",
       "      <td>17.8</td>\n",
       "      <td>2.0</td>\n",
       "      <td>12.8</td>\n",
       "      <td>0.0</td>\n",
       "      <td>1022.0</td>\n",
       "      <td>130.0</td>\n",
       "      <td>3.1</td>\n",
       "    </tr>\n",
       "    <tr>\n",
       "      <th>2</th>\n",
       "      <td>0</td>\n",
       "      <td>0</td>\n",
       "      <td>Education</td>\n",
       "      <td>7432</td>\n",
       "      <td>2008.0</td>\n",
       "      <td>16.1</td>\n",
       "      <td>0.0</td>\n",
       "      <td>12.8</td>\n",
       "      <td>0.0</td>\n",
       "      <td>1021.9</td>\n",
       "      <td>140.0</td>\n",
       "      <td>3.1</td>\n",
       "    </tr>\n",
       "    <tr>\n",
       "      <th>3</th>\n",
       "      <td>0</td>\n",
       "      <td>0</td>\n",
       "      <td>Education</td>\n",
       "      <td>7432</td>\n",
       "      <td>2008.0</td>\n",
       "      <td>17.2</td>\n",
       "      <td>0.0</td>\n",
       "      <td>13.3</td>\n",
       "      <td>0.0</td>\n",
       "      <td>1022.2</td>\n",
       "      <td>140.0</td>\n",
       "      <td>3.1</td>\n",
       "    </tr>\n",
       "    <tr>\n",
       "      <th>4</th>\n",
       "      <td>0</td>\n",
       "      <td>0</td>\n",
       "      <td>Education</td>\n",
       "      <td>7432</td>\n",
       "      <td>2008.0</td>\n",
       "      <td>16.7</td>\n",
       "      <td>2.0</td>\n",
       "      <td>13.3</td>\n",
       "      <td>0.0</td>\n",
       "      <td>1022.3</td>\n",
       "      <td>130.0</td>\n",
       "      <td>2.6</td>\n",
       "    </tr>\n",
       "    <tr>\n",
       "      <th>...</th>\n",
       "      <td>...</td>\n",
       "      <td>...</td>\n",
       "      <td>...</td>\n",
       "      <td>...</td>\n",
       "      <td>...</td>\n",
       "      <td>...</td>\n",
       "      <td>...</td>\n",
       "      <td>...</td>\n",
       "      <td>...</td>\n",
       "      <td>...</td>\n",
       "      <td>...</td>\n",
       "      <td>...</td>\n",
       "    </tr>\n",
       "    <tr>\n",
       "      <th>25273981</th>\n",
       "      <td>15</td>\n",
       "      <td>1448</td>\n",
       "      <td>Office</td>\n",
       "      <td>92271</td>\n",
       "      <td>2001.0</td>\n",
       "      <td>3.3</td>\n",
       "      <td>0.0</td>\n",
       "      <td>1.7</td>\n",
       "      <td>0.0</td>\n",
       "      <td>1018.3</td>\n",
       "      <td>150.0</td>\n",
       "      <td>7.7</td>\n",
       "    </tr>\n",
       "    <tr>\n",
       "      <th>25273982</th>\n",
       "      <td>15</td>\n",
       "      <td>1448</td>\n",
       "      <td>Office</td>\n",
       "      <td>92271</td>\n",
       "      <td>2001.0</td>\n",
       "      <td>2.8</td>\n",
       "      <td>0.0</td>\n",
       "      <td>1.1</td>\n",
       "      <td>0.0</td>\n",
       "      <td>1017.8</td>\n",
       "      <td>140.0</td>\n",
       "      <td>5.1</td>\n",
       "    </tr>\n",
       "    <tr>\n",
       "      <th>25273983</th>\n",
       "      <td>15</td>\n",
       "      <td>1448</td>\n",
       "      <td>Office</td>\n",
       "      <td>92271</td>\n",
       "      <td>2001.0</td>\n",
       "      <td>2.8</td>\n",
       "      <td>0.0</td>\n",
       "      <td>1.7</td>\n",
       "      <td>-1.0</td>\n",
       "      <td>1017.2</td>\n",
       "      <td>140.0</td>\n",
       "      <td>6.2</td>\n",
       "    </tr>\n",
       "    <tr>\n",
       "      <th>25273984</th>\n",
       "      <td>15</td>\n",
       "      <td>1448</td>\n",
       "      <td>Office</td>\n",
       "      <td>92271</td>\n",
       "      <td>2001.0</td>\n",
       "      <td>2.8</td>\n",
       "      <td>0.0</td>\n",
       "      <td>2.2</td>\n",
       "      <td>8.0</td>\n",
       "      <td>1016.1</td>\n",
       "      <td>140.0</td>\n",
       "      <td>5.1</td>\n",
       "    </tr>\n",
       "    <tr>\n",
       "      <th>25273985</th>\n",
       "      <td>15</td>\n",
       "      <td>1448</td>\n",
       "      <td>Office</td>\n",
       "      <td>92271</td>\n",
       "      <td>2001.0</td>\n",
       "      <td>3.3</td>\n",
       "      <td>0.0</td>\n",
       "      <td>2.2</td>\n",
       "      <td>20.0</td>\n",
       "      <td>1014.7</td>\n",
       "      <td>140.0</td>\n",
       "      <td>5.1</td>\n",
       "    </tr>\n",
       "  </tbody>\n",
       "</table>\n",
       "<p>24832834 rows × 12 columns</p>\n",
       "</div>"
      ],
      "text/plain": [
       "          site_id  building_id primary_use  square_feet  year_built  \\\n",
       "0               0            0   Education         7432      2008.0   \n",
       "1               0            0   Education         7432      2008.0   \n",
       "2               0            0   Education         7432      2008.0   \n",
       "3               0            0   Education         7432      2008.0   \n",
       "4               0            0   Education         7432      2008.0   \n",
       "...           ...          ...         ...          ...         ...   \n",
       "25273981       15         1448      Office        92271      2001.0   \n",
       "25273982       15         1448      Office        92271      2001.0   \n",
       "25273983       15         1448      Office        92271      2001.0   \n",
       "25273984       15         1448      Office        92271      2001.0   \n",
       "25273985       15         1448      Office        92271      2001.0   \n",
       "\n",
       "          air_temperature  cloud_coverage  dew_temperature  precip_depth_1_hr  \\\n",
       "0                    17.8             4.0             11.7                0.0   \n",
       "1                    17.8             2.0             12.8                0.0   \n",
       "2                    16.1             0.0             12.8                0.0   \n",
       "3                    17.2             0.0             13.3                0.0   \n",
       "4                    16.7             2.0             13.3                0.0   \n",
       "...                   ...             ...              ...                ...   \n",
       "25273981              3.3             0.0              1.7                0.0   \n",
       "25273982              2.8             0.0              1.1                0.0   \n",
       "25273983              2.8             0.0              1.7               -1.0   \n",
       "25273984              2.8             0.0              2.2                8.0   \n",
       "25273985              3.3             0.0              2.2               20.0   \n",
       "\n",
       "          sea_level_pressure  wind_direction  wind_speed  \n",
       "0                     1021.4           100.0         3.6  \n",
       "1                     1022.0           130.0         3.1  \n",
       "2                     1021.9           140.0         3.1  \n",
       "3                     1022.2           140.0         3.1  \n",
       "4                     1022.3           130.0         2.6  \n",
       "...                      ...             ...         ...  \n",
       "25273981              1018.3           150.0         7.7  \n",
       "25273982              1017.8           140.0         5.1  \n",
       "25273983              1017.2           140.0         6.2  \n",
       "25273984              1016.1           140.0         5.1  \n",
       "25273985              1014.7           140.0         5.1  \n",
       "\n",
       "[24832834 rows x 12 columns]"
      ]
     },
     "execution_count": 22,
     "metadata": {},
     "output_type": "execute_result"
    }
   ],
   "source": [
    "gdcu"
   ]
  },
  {
   "cell_type": "code",
   "execution_count": 23,
   "id": "8bd2242c",
   "metadata": {},
   "outputs": [
    {
     "data": {
      "text/plain": [
       "Text(0.5, 1.0, 'Precip Depth 1 Hour')"
      ]
     },
     "execution_count": 23,
     "metadata": {},
     "output_type": "execute_result"
    },
    {
     "data": {
      "image/png": "[encoded data removed]",
      "text/plain": [
       "<Figure size 1008x432 with 1 Axes>"
      ]
     },
     "metadata": {
      "needs_background": "light"
     },
     "output_type": "display_data"
    }
   ],
   "source": [
    "#cek outlier pada kolom precip_depth_1_hr\n",
    "fig, ax = plt.subplots(figsize = (14,6))\n",
    "sns.boxplot(x = gdcu.precip_depth_1_hr).set_title('Precip Depth 1 Hour')"
   ]
  },
  {
   "cell_type": "code",
   "execution_count": 24,
   "id": "66a94e6a",
   "metadata": {},
   "outputs": [
    {
     "name": "stdout",
     "output_type": "stream",
     "text": [
      "Q1 = 0.0\n",
      "Q2 = 0.0\n",
      "IQR = 0.0\n"
     ]
    }
   ],
   "source": [
    "# Deteksi Outlier menggunakan nilai IQR\n",
    "\n",
    "Q1 = gdcu.precip_depth_1_hr.quantile(0.25)\n",
    "Q3 = gdcu.precip_depth_1_hr.quantile(0.75)\n",
    "IQR = Q3 - Q1\n",
    "print('Q1 =', Q1)\n",
    "print('Q2 =', Q3)\n",
    "print('IQR =', IQR)"
   ]
  },
  {
   "cell_type": "code",
   "execution_count": 25,
   "id": "d892e340",
   "metadata": {},
   "outputs": [
    {
     "name": "stdout",
     "output_type": "stream",
     "text": [
      "batas bawah = 0.0\n",
      "batas atas = 0.0\n"
     ]
    }
   ],
   "source": [
    "# Menentukan batas bawah dan batas atas\n",
    "\n",
    "batasBawah = Q1 - (1.5 * IQR)\n",
    "batasAtas = Q3 + (1.5 * IQR)\n",
    "print('batas bawah =', batasBawah)\n",
    "print('batas atas =', batasAtas)"
   ]
  },
  {
   "cell_type": "code",
   "execution_count": 26,
   "id": "59c09188",
   "metadata": {},
   "outputs": [
    {
     "data": {
      "text/plain": [
       "Text(0.5, 1.0, 'Dew Temperature')"
      ]
     },
     "execution_count": 26,
     "metadata": {},
     "output_type": "execute_result"
    },
    {
     "data": {
      "image/png": "[encoded data removed]",
      "text/plain": [
       "<Figure size 1008x432 with 1 Axes>"
      ]
     },
     "metadata": {
      "needs_background": "light"
     },
     "output_type": "display_data"
    }
   ],
   "source": [
    "#Cek outlier kolom dew_temperature\n",
    "fig, ax = plt.subplots(figsize = (14,6))\n",
    "sns.boxplot(x = gdcu.dew_temperature).set_title('Dew Temperature')"
   ]
  },
  {
   "cell_type": "code",
   "execution_count": 27,
   "id": "41989758",
   "metadata": {},
   "outputs": [
    {
     "name": "stdout",
     "output_type": "stream",
     "text": [
      "Q1 = 0.6\n",
      "Q2 = 16.7\n",
      "IQR = 16.099999999999998\n"
     ]
    }
   ],
   "source": [
    "# Deteksi Outlier menggunakan nilai IQR\n",
    "\n",
    "Q1 = gdcu.dew_temperature.quantile(0.25)\n",
    "Q3 = gdcu.dew_temperature.quantile(0.75)\n",
    "IQR = Q3 - Q1\n",
    "print('Q1 =', Q1)\n",
    "print('Q2 =', Q3)\n",
    "print('IQR =', IQR)"
   ]
  },
  {
   "cell_type": "code",
   "execution_count": 28,
   "id": "74abe14e",
   "metadata": {},
   "outputs": [
    {
     "name": "stdout",
     "output_type": "stream",
     "text": [
      "batas bawah = -23.549999999999997\n",
      "batas atas = 40.849999999999994\n"
     ]
    }
   ],
   "source": [
    "# Menentukan batas bawah dan batas atas\n",
    "\n",
    "batasBawah = Q1 - (1.5 * IQR)\n",
    "batasAtas = Q3 + (1.5 * IQR)\n",
    "print('batas bawah =', batasBawah)\n",
    "print('batas atas =', batasAtas)"
   ]
  },
  {
   "cell_type": "code",
   "execution_count": 29,
   "id": "d8df0347",
   "metadata": {},
   "outputs": [
    {
     "data": {
      "image/png": "[encoded data removed]",
      "text/plain": [
       "<Figure size 1080x504 with 1 Axes>"
      ]
     },
     "metadata": {
      "needs_background": "light"
     },
     "output_type": "display_data"
    }
   ],
   "source": [
    "# handle outlier dengan replace menggantinya dengan nilai mean\n",
    "\n",
    "gdcu['dew_temperature'] = gdcu.dew_temperature.mask(gdcu.dew_temperature > batasAtas, gdcu.dew_temperature.mean())\n",
    "gdcu['dew_temperature'] = gdcu.dew_temperature.mask(gdcu.dew_temperature < batasBawah, gdcu.dew_temperature.mean())\n",
    "fig, ax = plt.subplots(figsize = (15,7))\n",
    "fig = sns.boxplot(x = gdcu.dew_temperature).set_title('Dew Temperature Boxplot')"
   ]
  },
  {
   "cell_type": "code",
   "execution_count": 30,
   "id": "0f54a183",
   "metadata": {},
   "outputs": [
    {
     "data": {
      "text/plain": [
       "Text(0.5, 1.0, 'Cloud Coverage')"
      ]
     },
     "execution_count": 30,
     "metadata": {},
     "output_type": "execute_result"
    },
    {
     "data": {
      "image/png": "[encoded data removed]",
      "text/plain": [
       "<Figure size 1008x432 with 1 Axes>"
      ]
     },
     "metadata": {
      "needs_background": "light"
     },
     "output_type": "display_data"
    }
   ],
   "source": [
    "#Cek outlier cloud coverage\n",
    "fig, ax = plt.subplots(figsize = (14,6))\n",
    "sns.boxplot(x = gdcu.cloud_coverage).set_title('Cloud Coverage')"
   ]
  },
  {
   "cell_type": "code",
   "execution_count": 31,
   "id": "2fe69411",
   "metadata": {},
   "outputs": [
    {
     "name": "stdout",
     "output_type": "stream",
     "text": [
      "Q1 = 0.0\n",
      "Q2 = 2.0\n",
      "IQR = 2.0\n"
     ]
    }
   ],
   "source": [
    "# Deteksi Outlier menggunakan nilai IQR\n",
    "\n",
    "Q1 = gdcu.cloud_coverage.quantile(0.25)\n",
    "Q3 = gdcu.cloud_coverage.quantile(0.75)\n",
    "IQR = Q3 - Q1\n",
    "print('Q1 =', Q1)\n",
    "print('Q2 =', Q3)\n",
    "print('IQR =', IQR)"
   ]
  },
  {
   "cell_type": "code",
   "execution_count": 32,
   "id": "2b14d130",
   "metadata": {},
   "outputs": [
    {
     "name": "stdout",
     "output_type": "stream",
     "text": [
      "batas bawah = -3.0\n",
      "batas atas = 5.0\n"
     ]
    }
   ],
   "source": [
    "# Menentukan batas bawah dan batas atas\n",
    "\n",
    "batasBawah = Q1 - (1.5 * IQR)\n",
    "batasAtas = Q3 + (1.5 * IQR)\n",
    "print('batas bawah =', batasBawah)\n",
    "print('batas atas =', batasAtas)"
   ]
  },
  {
   "cell_type": "code",
   "execution_count": 33,
   "id": "87fc2a91",
   "metadata": {},
   "outputs": [
    {
     "data": {
      "image/png": "[encoded data removed]",
      "text/plain": [
       "<Figure size 1080x504 with 1 Axes>"
      ]
     },
     "metadata": {
      "needs_background": "light"
     },
     "output_type": "display_data"
    }
   ],
   "source": [
    "# handle outlier dengan replace menggantinya dengan nilai mean\n",
    "\n",
    "gdcu['cloud_coverage'] = gdcu.cloud_coverage.mask(gdcu.cloud_coverage > batasAtas, gdcu.cloud_coverage.mean())\n",
    "gdcu['cloud_coverage'] = gdcu.cloud_coverage.mask(gdcu.cloud_coverage < batasBawah, gdcu.cloud_coverage.mean())\n",
    "fig, ax = plt.subplots(figsize = (15,7))\n",
    "fig = sns.boxplot(x = gdcu.cloud_coverage).set_title('Cloud Coverage Boxplot')"
   ]
  },
  {
   "cell_type": "code",
   "execution_count": 34,
   "id": "8a25d27d",
   "metadata": {},
   "outputs": [
    {
     "name": "stdout",
     "output_type": "stream",
     "text": [
      "Q1 = 0.0\n",
      "Q2 = 1.2700347451281637\n",
      "IQR = 1.2700347451281637\n"
     ]
    }
   ],
   "source": [
    "# Deteksi Outlier menggunakan nilai IQR\n",
    "Q1 = gdcu.cloud_coverage.quantile(0.25)\n",
    "Q3 = gdcu.cloud_coverage.quantile(0.75)\n",
    "IQR = Q3 - Q1\n",
    "print('Q1 =', Q1)\n",
    "print('Q2 =', Q3)\n",
    "print('IQR =', IQR)"
   ]
  },
  {
   "cell_type": "code",
   "execution_count": 35,
   "id": "9a164102",
   "metadata": {},
   "outputs": [
    {
     "name": "stdout",
     "output_type": "stream",
     "text": [
      "batas bawah = -1.9050521176922457\n",
      "batas atas = 3.175086862820409\n"
     ]
    }
   ],
   "source": [
    "# Menentukan batas bawah dan batas atas\n",
    "\n",
    "batasBawah = Q1 - (1.5 * IQR)\n",
    "batasAtas = Q3 + (1.5 * IQR)\n",
    "print('batas bawah =', batasBawah)\n",
    "print('batas atas =', batasAtas)"
   ]
  },
  {
   "cell_type": "code",
   "execution_count": 36,
   "id": "ac876866",
   "metadata": {},
   "outputs": [
    {
     "data": {
      "image/png": "[encoded data removed]",
      "text/plain": [
       "<Figure size 1080x504 with 1 Axes>"
      ]
     },
     "metadata": {
      "needs_background": "light"
     },
     "output_type": "display_data"
    }
   ],
   "source": [
    "# handle outlier dengan replace menggantinya dengan nilai mean\n",
    "\n",
    "gdcu['cloud_coverage'] = gdcu.cloud_coverage.mask(gdcu.cloud_coverage > batasAtas, gdcu.cloud_coverage.mean())\n",
    "gdcu['cloud_coverage'] = gdcu.cloud_coverage.mask(gdcu.cloud_coverage < batasBawah, gdcu.cloud_coverage.mean())\n",
    "fig, ax = plt.subplots(figsize = (15,7))\n",
    "fig = sns.boxplot(x = gdcu.cloud_coverage).set_title('Cloud Coverage Boxplot')"
   ]
  },
  {
   "cell_type": "code",
   "execution_count": 37,
   "id": "b6544b59",
   "metadata": {},
   "outputs": [
    {
     "data": {
      "text/plain": [
       "Text(0.5, 1.0, 'Air Temperature')"
      ]
     },
     "execution_count": 37,
     "metadata": {},
     "output_type": "execute_result"
    },
    {
     "data": {
      "image/png": "[encoded data removed]",
      "text/plain": [
       "<Figure size 1008x432 with 1 Axes>"
      ]
     },
     "metadata": {
      "needs_background": "light"
     },
     "output_type": "display_data"
    }
   ],
   "source": [
    "#Outlier pada aie_temperature\n",
    "fig, ax = plt.subplots(figsize = (14,6))\n",
    "sns.boxplot(x = gdcu.air_temperature).set_title('Air Temperature')"
   ]
  },
  {
   "cell_type": "code",
   "execution_count": 38,
   "id": "c8385d9c",
   "metadata": {},
   "outputs": [
    {
     "name": "stdout",
     "output_type": "stream",
     "text": [
      "Q1 = 8.3\n",
      "Q2 = 23.9\n",
      "IQR = 15.599999999999998\n"
     ]
    }
   ],
   "source": [
    "Q1 = gdcu.air_temperature.quantile(0.25)\n",
    "Q3 = gdcu.air_temperature.quantile(0.75)\n",
    "IQR = Q3 - Q1\n",
    "print('Q1 =', Q1)\n",
    "print('Q2 =', Q3)\n",
    "print('IQR =', IQR)"
   ]
  },
  {
   "cell_type": "code",
   "execution_count": 39,
   "id": "e75b6ff7",
   "metadata": {},
   "outputs": [
    {
     "name": "stdout",
     "output_type": "stream",
     "text": [
      "batas bawah = -15.099999999999998\n",
      "batas atas = 47.3\n"
     ]
    }
   ],
   "source": [
    "# Menentukan batas bawah dan batas atas\n",
    "\n",
    "batasBawah = Q1 - (1.5 * IQR)\n",
    "batasAtas = Q3 + (1.5 * IQR)\n",
    "print('batas bawah =', batasBawah)\n",
    "print('batas atas =', batasAtas)"
   ]
  },
  {
   "cell_type": "code",
   "execution_count": 40,
   "id": "39fd9f1c",
   "metadata": {},
   "outputs": [
    {
     "data": {
      "image/png": "[encoded data removed]",
      "text/plain": [
       "<Figure size 1080x504 with 1 Axes>"
      ]
     },
     "metadata": {
      "needs_background": "light"
     },
     "output_type": "display_data"
    }
   ],
   "source": [
    "# handle outlier dengan replace menggantinya dengan nilai mean\n",
    "\n",
    "gdcu['air_temperature'] = gdcu.air_temperature.mask(gdcu.air_temperature > batasAtas, gdcu.cloud_coverage.mean())\n",
    "gdcu['air_temperature'] = gdcu.air_temperature.mask(gdcu.air_temperature < batasBawah, gdcu.cloud_coverage.mean())\n",
    "fig, ax = plt.subplots(figsize = (15,7))\n",
    "fig = sns.boxplot(x = gdcu.air_temperature).set_title('Air Temperature Boxplot')"
   ]
  },
  {
   "cell_type": "markdown",
   "id": "4af4f6e5",
   "metadata": {},
   "source": [
    "**4. Statistika Deskriptif**"
   ]
  },
  {
   "cell_type": "code",
   "execution_count": 41,
   "id": "8270ebb0",
   "metadata": {},
   "outputs": [
    {
     "data": {
      "text/html": [
       "<div>\n",
       "<style scoped>\n",
       "    .dataframe tbody tr th:only-of-type {\n",
       "        vertical-align: middle;\n",
       "    }\n",
       "\n",
       "    .dataframe tbody tr th {\n",
       "        vertical-align: top;\n",
       "    }\n",
       "\n",
       "    .dataframe thead th {\n",
       "        text-align: right;\n",
       "    }\n",
       "</style>\n",
       "<table border=\"1\" class=\"dataframe\">\n",
       "  <thead>\n",
       "    <tr style=\"text-align: right;\">\n",
       "      <th></th>\n",
       "      <th>site_id</th>\n",
       "      <th>building_id</th>\n",
       "      <th>primary_use</th>\n",
       "      <th>square_feet</th>\n",
       "      <th>year_built</th>\n",
       "      <th>air_temperature</th>\n",
       "      <th>cloud_coverage</th>\n",
       "      <th>dew_temperature</th>\n",
       "      <th>precip_depth_1_hr</th>\n",
       "      <th>sea_level_pressure</th>\n",
       "      <th>wind_direction</th>\n",
       "      <th>wind_speed</th>\n",
       "    </tr>\n",
       "  </thead>\n",
       "  <tbody>\n",
       "    <tr>\n",
       "      <th>0</th>\n",
       "      <td>0</td>\n",
       "      <td>0</td>\n",
       "      <td>Education</td>\n",
       "      <td>7432</td>\n",
       "      <td>2008.0</td>\n",
       "      <td>17.8</td>\n",
       "      <td>0.756098</td>\n",
       "      <td>11.7</td>\n",
       "      <td>0.0</td>\n",
       "      <td>1021.4</td>\n",
       "      <td>100.0</td>\n",
       "      <td>3.6</td>\n",
       "    </tr>\n",
       "    <tr>\n",
       "      <th>1</th>\n",
       "      <td>0</td>\n",
       "      <td>0</td>\n",
       "      <td>Education</td>\n",
       "      <td>7432</td>\n",
       "      <td>2008.0</td>\n",
       "      <td>17.8</td>\n",
       "      <td>2.000000</td>\n",
       "      <td>12.8</td>\n",
       "      <td>0.0</td>\n",
       "      <td>1022.0</td>\n",
       "      <td>130.0</td>\n",
       "      <td>3.1</td>\n",
       "    </tr>\n",
       "    <tr>\n",
       "      <th>2</th>\n",
       "      <td>0</td>\n",
       "      <td>0</td>\n",
       "      <td>Education</td>\n",
       "      <td>7432</td>\n",
       "      <td>2008.0</td>\n",
       "      <td>16.1</td>\n",
       "      <td>0.000000</td>\n",
       "      <td>12.8</td>\n",
       "      <td>0.0</td>\n",
       "      <td>1021.9</td>\n",
       "      <td>140.0</td>\n",
       "      <td>3.1</td>\n",
       "    </tr>\n",
       "    <tr>\n",
       "      <th>3</th>\n",
       "      <td>0</td>\n",
       "      <td>0</td>\n",
       "      <td>Education</td>\n",
       "      <td>7432</td>\n",
       "      <td>2008.0</td>\n",
       "      <td>17.2</td>\n",
       "      <td>0.000000</td>\n",
       "      <td>13.3</td>\n",
       "      <td>0.0</td>\n",
       "      <td>1022.2</td>\n",
       "      <td>140.0</td>\n",
       "      <td>3.1</td>\n",
       "    </tr>\n",
       "    <tr>\n",
       "      <th>4</th>\n",
       "      <td>0</td>\n",
       "      <td>0</td>\n",
       "      <td>Education</td>\n",
       "      <td>7432</td>\n",
       "      <td>2008.0</td>\n",
       "      <td>16.7</td>\n",
       "      <td>2.000000</td>\n",
       "      <td>13.3</td>\n",
       "      <td>0.0</td>\n",
       "      <td>1022.3</td>\n",
       "      <td>130.0</td>\n",
       "      <td>2.6</td>\n",
       "    </tr>\n",
       "    <tr>\n",
       "      <th>...</th>\n",
       "      <td>...</td>\n",
       "      <td>...</td>\n",
       "      <td>...</td>\n",
       "      <td>...</td>\n",
       "      <td>...</td>\n",
       "      <td>...</td>\n",
       "      <td>...</td>\n",
       "      <td>...</td>\n",
       "      <td>...</td>\n",
       "      <td>...</td>\n",
       "      <td>...</td>\n",
       "      <td>...</td>\n",
       "    </tr>\n",
       "    <tr>\n",
       "      <th>25273981</th>\n",
       "      <td>15</td>\n",
       "      <td>1448</td>\n",
       "      <td>Office</td>\n",
       "      <td>92271</td>\n",
       "      <td>2001.0</td>\n",
       "      <td>3.3</td>\n",
       "      <td>0.000000</td>\n",
       "      <td>1.7</td>\n",
       "      <td>0.0</td>\n",
       "      <td>1018.3</td>\n",
       "      <td>150.0</td>\n",
       "      <td>7.7</td>\n",
       "    </tr>\n",
       "    <tr>\n",
       "      <th>25273982</th>\n",
       "      <td>15</td>\n",
       "      <td>1448</td>\n",
       "      <td>Office</td>\n",
       "      <td>92271</td>\n",
       "      <td>2001.0</td>\n",
       "      <td>2.8</td>\n",
       "      <td>0.000000</td>\n",
       "      <td>1.1</td>\n",
       "      <td>0.0</td>\n",
       "      <td>1017.8</td>\n",
       "      <td>140.0</td>\n",
       "      <td>5.1</td>\n",
       "    </tr>\n",
       "    <tr>\n",
       "      <th>25273983</th>\n",
       "      <td>15</td>\n",
       "      <td>1448</td>\n",
       "      <td>Office</td>\n",
       "      <td>92271</td>\n",
       "      <td>2001.0</td>\n",
       "      <td>2.8</td>\n",
       "      <td>0.000000</td>\n",
       "      <td>1.7</td>\n",
       "      <td>-1.0</td>\n",
       "      <td>1017.2</td>\n",
       "      <td>140.0</td>\n",
       "      <td>6.2</td>\n",
       "    </tr>\n",
       "    <tr>\n",
       "      <th>25273984</th>\n",
       "      <td>15</td>\n",
       "      <td>1448</td>\n",
       "      <td>Office</td>\n",
       "      <td>92271</td>\n",
       "      <td>2001.0</td>\n",
       "      <td>2.8</td>\n",
       "      <td>0.000000</td>\n",
       "      <td>2.2</td>\n",
       "      <td>8.0</td>\n",
       "      <td>1016.1</td>\n",
       "      <td>140.0</td>\n",
       "      <td>5.1</td>\n",
       "    </tr>\n",
       "    <tr>\n",
       "      <th>25273985</th>\n",
       "      <td>15</td>\n",
       "      <td>1448</td>\n",
       "      <td>Office</td>\n",
       "      <td>92271</td>\n",
       "      <td>2001.0</td>\n",
       "      <td>3.3</td>\n",
       "      <td>0.000000</td>\n",
       "      <td>2.2</td>\n",
       "      <td>20.0</td>\n",
       "      <td>1014.7</td>\n",
       "      <td>140.0</td>\n",
       "      <td>5.1</td>\n",
       "    </tr>\n",
       "  </tbody>\n",
       "</table>\n",
       "<p>24832834 rows × 12 columns</p>\n",
       "</div>"
      ],
      "text/plain": [
       "          site_id  building_id primary_use  square_feet  year_built  \\\n",
       "0               0            0   Education         7432      2008.0   \n",
       "1               0            0   Education         7432      2008.0   \n",
       "2               0            0   Education         7432      2008.0   \n",
       "3               0            0   Education         7432      2008.0   \n",
       "4               0            0   Education         7432      2008.0   \n",
       "...           ...          ...         ...          ...         ...   \n",
       "25273981       15         1448      Office        92271      2001.0   \n",
       "25273982       15         1448      Office        92271      2001.0   \n",
       "25273983       15         1448      Office        92271      2001.0   \n",
       "25273984       15         1448      Office        92271      2001.0   \n",
       "25273985       15         1448      Office        92271      2001.0   \n",
       "\n",
       "          air_temperature  cloud_coverage  dew_temperature  precip_depth_1_hr  \\\n",
       "0                    17.8        0.756098             11.7                0.0   \n",
       "1                    17.8        2.000000             12.8                0.0   \n",
       "2                    16.1        0.000000             12.8                0.0   \n",
       "3                    17.2        0.000000             13.3                0.0   \n",
       "4                    16.7        2.000000             13.3                0.0   \n",
       "...                   ...             ...              ...                ...   \n",
       "25273981              3.3        0.000000              1.7                0.0   \n",
       "25273982              2.8        0.000000              1.1                0.0   \n",
       "25273983              2.8        0.000000              1.7               -1.0   \n",
       "25273984              2.8        0.000000              2.2                8.0   \n",
       "25273985              3.3        0.000000              2.2               20.0   \n",
       "\n",
       "          sea_level_pressure  wind_direction  wind_speed  \n",
       "0                     1021.4           100.0         3.6  \n",
       "1                     1022.0           130.0         3.1  \n",
       "2                     1021.9           140.0         3.1  \n",
       "3                     1022.2           140.0         3.1  \n",
       "4                     1022.3           130.0         2.6  \n",
       "...                      ...             ...         ...  \n",
       "25273981              1018.3           150.0         7.7  \n",
       "25273982              1017.8           140.0         5.1  \n",
       "25273983              1017.2           140.0         6.2  \n",
       "25273984              1016.1           140.0         5.1  \n",
       "25273985              1014.7           140.0         5.1  \n",
       "\n",
       "[24832834 rows x 12 columns]"
      ]
     },
     "execution_count": 41,
     "metadata": {},
     "output_type": "execute_result"
    }
   ],
   "source": [
    "gdcu"
   ]
  },
  {
   "cell_type": "code",
   "execution_count": 42,
   "id": "bb9eeb53",
   "metadata": {},
   "outputs": [
    {
     "data": {
      "text/html": [
       "<div>\n",
       "<style scoped>\n",
       "    .dataframe tbody tr th:only-of-type {\n",
       "        vertical-align: middle;\n",
       "    }\n",
       "\n",
       "    .dataframe tbody tr th {\n",
       "        vertical-align: top;\n",
       "    }\n",
       "\n",
       "    .dataframe thead th {\n",
       "        text-align: right;\n",
       "    }\n",
       "</style>\n",
       "<table border=\"1\" class=\"dataframe\">\n",
       "  <thead>\n",
       "    <tr style=\"text-align: right;\">\n",
       "      <th></th>\n",
       "      <th>site_id</th>\n",
       "      <th>building_id</th>\n",
       "      <th>primary_use</th>\n",
       "      <th>square_feet</th>\n",
       "      <th>year_built</th>\n",
       "      <th>air_temperature</th>\n",
       "      <th>cloud_coverage</th>\n",
       "      <th>dew_temperature</th>\n",
       "      <th>precip_depth_1_hr</th>\n",
       "      <th>sea_level_pressure</th>\n",
       "      <th>wind_direction</th>\n",
       "      <th>wind_speed</th>\n",
       "    </tr>\n",
       "  </thead>\n",
       "  <tbody>\n",
       "    <tr>\n",
       "      <th>count</th>\n",
       "      <td>2.483283e+07</td>\n",
       "      <td>2.483283e+07</td>\n",
       "      <td>24832834</td>\n",
       "      <td>2.483283e+07</td>\n",
       "      <td>2.483283e+07</td>\n",
       "      <td>2.483283e+07</td>\n",
       "      <td>2.483283e+07</td>\n",
       "      <td>2.483283e+07</td>\n",
       "      <td>2.483283e+07</td>\n",
       "      <td>2.483283e+07</td>\n",
       "      <td>2.483283e+07</td>\n",
       "      <td>2.483283e+07</td>\n",
       "    </tr>\n",
       "    <tr>\n",
       "      <th>unique</th>\n",
       "      <td>NaN</td>\n",
       "      <td>NaN</td>\n",
       "      <td>16</td>\n",
       "      <td>NaN</td>\n",
       "      <td>NaN</td>\n",
       "      <td>NaN</td>\n",
       "      <td>NaN</td>\n",
       "      <td>NaN</td>\n",
       "      <td>NaN</td>\n",
       "      <td>NaN</td>\n",
       "      <td>NaN</td>\n",
       "      <td>NaN</td>\n",
       "    </tr>\n",
       "    <tr>\n",
       "      <th>top</th>\n",
       "      <td>NaN</td>\n",
       "      <td>NaN</td>\n",
       "      <td>Education</td>\n",
       "      <td>NaN</td>\n",
       "      <td>NaN</td>\n",
       "      <td>NaN</td>\n",
       "      <td>NaN</td>\n",
       "      <td>NaN</td>\n",
       "      <td>NaN</td>\n",
       "      <td>NaN</td>\n",
       "      <td>NaN</td>\n",
       "      <td>NaN</td>\n",
       "    </tr>\n",
       "    <tr>\n",
       "      <th>freq</th>\n",
       "      <td>NaN</td>\n",
       "      <td>NaN</td>\n",
       "      <td>9325269</td>\n",
       "      <td>NaN</td>\n",
       "      <td>NaN</td>\n",
       "      <td>NaN</td>\n",
       "      <td>NaN</td>\n",
       "      <td>NaN</td>\n",
       "      <td>NaN</td>\n",
       "      <td>NaN</td>\n",
       "      <td>NaN</td>\n",
       "      <td>NaN</td>\n",
       "    </tr>\n",
       "    <tr>\n",
       "      <th>mean</th>\n",
       "      <td>6.966810e+00</td>\n",
       "      <td>7.229845e+02</td>\n",
       "      <td>NaN</td>\n",
       "      <td>9.266771e+04</td>\n",
       "      <td>8.996896e+02</td>\n",
       "      <td>1.569574e+01</td>\n",
       "      <td>4.393200e-01</td>\n",
       "      <td>8.244136e+00</td>\n",
       "      <td>7.464318e-01</td>\n",
       "      <td>1.010793e+03</td>\n",
       "      <td>1.671776e+02</td>\n",
       "      <td>3.341432e+00</td>\n",
       "    </tr>\n",
       "    <tr>\n",
       "      <th>std</th>\n",
       "      <td>5.031435e+00</td>\n",
       "      <td>4.212210e+02</td>\n",
       "      <td>NaN</td>\n",
       "      <td>1.111421e+05</td>\n",
       "      <td>9.806868e+02</td>\n",
       "      <td>1.052252e+01</td>\n",
       "      <td>7.188400e-01</td>\n",
       "      <td>1.022507e+01</td>\n",
       "      <td>7.782012e+00</td>\n",
       "      <td>1.957157e+01</td>\n",
       "      <td>1.161938e+02</td>\n",
       "      <td>1.965248e+00</td>\n",
       "    </tr>\n",
       "    <tr>\n",
       "      <th>min</th>\n",
       "      <td>0.000000e+00</td>\n",
       "      <td>0.000000e+00</td>\n",
       "      <td>NaN</td>\n",
       "      <td>2.830000e+02</td>\n",
       "      <td>0.000000e+00</td>\n",
       "      <td>-1.500000e+01</td>\n",
       "      <td>0.000000e+00</td>\n",
       "      <td>-2.350000e+01</td>\n",
       "      <td>-1.000000e+00</td>\n",
       "      <td>9.498684e+02</td>\n",
       "      <td>0.000000e+00</td>\n",
       "      <td>0.000000e+00</td>\n",
       "    </tr>\n",
       "    <tr>\n",
       "      <th>25%</th>\n",
       "      <td>3.000000e+00</td>\n",
       "      <td>3.550000e+02</td>\n",
       "      <td>NaN</td>\n",
       "      <td>2.311200e+04</td>\n",
       "      <td>0.000000e+00</td>\n",
       "      <td>8.300000e+00</td>\n",
       "      <td>0.000000e+00</td>\n",
       "      <td>1.000000e+00</td>\n",
       "      <td>0.000000e+00</td>\n",
       "      <td>1.010300e+03</td>\n",
       "      <td>6.000000e+01</td>\n",
       "      <td>2.100000e+00</td>\n",
       "    </tr>\n",
       "    <tr>\n",
       "      <th>50%</th>\n",
       "      <td>5.000000e+00</td>\n",
       "      <td>7.280000e+02</td>\n",
       "      <td>NaN</td>\n",
       "      <td>5.830700e+04</td>\n",
       "      <td>0.000000e+00</td>\n",
       "      <td>1.610000e+01</td>\n",
       "      <td>0.000000e+00</td>\n",
       "      <td>9.400000e+00</td>\n",
       "      <td>0.000000e+00</td>\n",
       "      <td>1.015700e+03</td>\n",
       "      <td>1.700000e+02</td>\n",
       "      <td>3.100000e+00</td>\n",
       "    </tr>\n",
       "    <tr>\n",
       "      <th>75%</th>\n",
       "      <td>1.300000e+01</td>\n",
       "      <td>1.091000e+03</td>\n",
       "      <td>NaN</td>\n",
       "      <td>1.161210e+05</td>\n",
       "      <td>1.967000e+03</td>\n",
       "      <td>2.390000e+01</td>\n",
       "      <td>7.560978e-01</td>\n",
       "      <td>1.670000e+01</td>\n",
       "      <td>0.000000e+00</td>\n",
       "      <td>1.020100e+03</td>\n",
       "      <td>2.700000e+02</td>\n",
       "      <td>4.600000e+00</td>\n",
       "    </tr>\n",
       "    <tr>\n",
       "      <th>max</th>\n",
       "      <td>1.500000e+01</td>\n",
       "      <td>1.448000e+03</td>\n",
       "      <td>NaN</td>\n",
       "      <td>8.750000e+05</td>\n",
       "      <td>2.017000e+03</td>\n",
       "      <td>4.720000e+01</td>\n",
       "      <td>3.000000e+00</td>\n",
       "      <td>2.670000e+01</td>\n",
       "      <td>5.970000e+02</td>\n",
       "      <td>1.034900e+03</td>\n",
       "      <td>3.600000e+02</td>\n",
       "      <td>8.200000e+00</td>\n",
       "    </tr>\n",
       "  </tbody>\n",
       "</table>\n",
       "</div>"
      ],
      "text/plain": [
       "             site_id   building_id primary_use   square_feet    year_built  \\\n",
       "count   2.483283e+07  2.483283e+07    24832834  2.483283e+07  2.483283e+07   \n",
       "unique           NaN           NaN          16           NaN           NaN   \n",
       "top              NaN           NaN   Education           NaN           NaN   \n",
       "freq             NaN           NaN     9325269           NaN           NaN   \n",
       "mean    6.966810e+00  7.229845e+02         NaN  9.266771e+04  8.996896e+02   \n",
       "std     5.031435e+00  4.212210e+02         NaN  1.111421e+05  9.806868e+02   \n",
       "min     0.000000e+00  0.000000e+00         NaN  2.830000e+02  0.000000e+00   \n",
       "25%     3.000000e+00  3.550000e+02         NaN  2.311200e+04  0.000000e+00   \n",
       "50%     5.000000e+00  7.280000e+02         NaN  5.830700e+04  0.000000e+00   \n",
       "75%     1.300000e+01  1.091000e+03         NaN  1.161210e+05  1.967000e+03   \n",
       "max     1.500000e+01  1.448000e+03         NaN  8.750000e+05  2.017000e+03   \n",
       "\n",
       "        air_temperature  cloud_coverage  dew_temperature  precip_depth_1_hr  \\\n",
       "count      2.483283e+07    2.483283e+07     2.483283e+07       2.483283e+07   \n",
       "unique              NaN             NaN              NaN                NaN   \n",
       "top                 NaN             NaN              NaN                NaN   \n",
       "freq                NaN             NaN              NaN                NaN   \n",
       "mean       1.569574e+01    4.393200e-01     8.244136e+00       7.464318e-01   \n",
       "std        1.052252e+01    7.188400e-01     1.022507e+01       7.782012e+00   \n",
       "min       -1.500000e+01    0.000000e+00    -2.350000e+01      -1.000000e+00   \n",
       "25%        8.300000e+00    0.000000e+00     1.000000e+00       0.000000e+00   \n",
       "50%        1.610000e+01    0.000000e+00     9.400000e+00       0.000000e+00   \n",
       "75%        2.390000e+01    7.560978e-01     1.670000e+01       0.000000e+00   \n",
       "max        4.720000e+01    3.000000e+00     2.670000e+01       5.970000e+02   \n",
       "\n",
       "        sea_level_pressure  wind_direction    wind_speed  \n",
       "count         2.483283e+07    2.483283e+07  2.483283e+07  \n",
       "unique                 NaN             NaN           NaN  \n",
       "top                    NaN             NaN           NaN  \n",
       "freq                   NaN             NaN           NaN  \n",
       "mean          1.010793e+03    1.671776e+02  3.341432e+00  \n",
       "std           1.957157e+01    1.161938e+02  1.965248e+00  \n",
       "min           9.498684e+02    0.000000e+00  0.000000e+00  \n",
       "25%           1.010300e+03    6.000000e+01  2.100000e+00  \n",
       "50%           1.015700e+03    1.700000e+02  3.100000e+00  \n",
       "75%           1.020100e+03    2.700000e+02  4.600000e+00  \n",
       "max           1.034900e+03    3.600000e+02  8.200000e+00  "
      ]
     },
     "execution_count": 42,
     "metadata": {},
     "output_type": "execute_result"
    }
   ],
   "source": [
    "gdcu.describe(include='all')"
   ]
  },
  {
   "cell_type": "markdown",
   "id": "4a36463f",
   "metadata": {},
   "source": [
    "**5. Visualisasi**"
   ]
  },
  {
   "cell_type": "code",
   "execution_count": 43,
   "id": "f11a31e0",
   "metadata": {},
   "outputs": [
    {
     "data": {
      "text/html": [
       "<div>\n",
       "<style scoped>\n",
       "    .dataframe tbody tr th:only-of-type {\n",
       "        vertical-align: middle;\n",
       "    }\n",
       "\n",
       "    .dataframe tbody tr th {\n",
       "        vertical-align: top;\n",
       "    }\n",
       "\n",
       "    .dataframe thead th {\n",
       "        text-align: right;\n",
       "    }\n",
       "</style>\n",
       "<table border=\"1\" class=\"dataframe\">\n",
       "  <thead>\n",
       "    <tr style=\"text-align: right;\">\n",
       "      <th>primary_use</th>\n",
       "      <th>Education</th>\n",
       "      <th>Entertainment/public assembly</th>\n",
       "      <th>Food sales and service</th>\n",
       "      <th>Healthcare</th>\n",
       "      <th>Lodging/residential</th>\n",
       "      <th>Manufacturing/industrial</th>\n",
       "      <th>Office</th>\n",
       "      <th>Other</th>\n",
       "      <th>Parking</th>\n",
       "      <th>Public services</th>\n",
       "      <th>Religious worship</th>\n",
       "      <th>Retail</th>\n",
       "      <th>Services</th>\n",
       "      <th>Technology/science</th>\n",
       "      <th>Utility</th>\n",
       "      <th>Warehouse/storage</th>\n",
       "    </tr>\n",
       "    <tr>\n",
       "      <th>site_id</th>\n",
       "      <th></th>\n",
       "      <th></th>\n",
       "      <th></th>\n",
       "      <th></th>\n",
       "      <th></th>\n",
       "      <th></th>\n",
       "      <th></th>\n",
       "      <th></th>\n",
       "      <th></th>\n",
       "      <th></th>\n",
       "      <th></th>\n",
       "      <th></th>\n",
       "      <th></th>\n",
       "      <th></th>\n",
       "      <th></th>\n",
       "      <th></th>\n",
       "    </tr>\n",
       "  </thead>\n",
       "  <tbody>\n",
       "    <tr>\n",
       "      <th>0</th>\n",
       "      <td>523290</td>\n",
       "      <td>87215</td>\n",
       "      <td>0</td>\n",
       "      <td>0</td>\n",
       "      <td>470961</td>\n",
       "      <td>0</td>\n",
       "      <td>418632</td>\n",
       "      <td>87215</td>\n",
       "      <td>139544</td>\n",
       "      <td>0</td>\n",
       "      <td>0</td>\n",
       "      <td>104658</td>\n",
       "      <td>0</td>\n",
       "      <td>0</td>\n",
       "      <td>0</td>\n",
       "      <td>0</td>\n",
       "    </tr>\n",
       "    <tr>\n",
       "      <th>1</th>\n",
       "      <td>380270</td>\n",
       "      <td>17285</td>\n",
       "      <td>0</td>\n",
       "      <td>0</td>\n",
       "      <td>172850</td>\n",
       "      <td>0</td>\n",
       "      <td>276560</td>\n",
       "      <td>0</td>\n",
       "      <td>0</td>\n",
       "      <td>34570</td>\n",
       "      <td>0</td>\n",
       "      <td>0</td>\n",
       "      <td>0</td>\n",
       "      <td>0</td>\n",
       "      <td>0</td>\n",
       "      <td>0</td>\n",
       "    </tr>\n",
       "    <tr>\n",
       "      <th>2</th>\n",
       "      <td>1068293</td>\n",
       "      <td>367773</td>\n",
       "      <td>35026</td>\n",
       "      <td>17513</td>\n",
       "      <td>210156</td>\n",
       "      <td>0</td>\n",
       "      <td>420312</td>\n",
       "      <td>0</td>\n",
       "      <td>52539</td>\n",
       "      <td>105078</td>\n",
       "      <td>17513</td>\n",
       "      <td>17513</td>\n",
       "      <td>0</td>\n",
       "      <td>0</td>\n",
       "      <td>17513</td>\n",
       "      <td>35026</td>\n",
       "    </tr>\n",
       "    <tr>\n",
       "      <th>3</th>\n",
       "      <td>1610644</td>\n",
       "      <td>770308</td>\n",
       "      <td>0</td>\n",
       "      <td>105042</td>\n",
       "      <td>192577</td>\n",
       "      <td>0</td>\n",
       "      <td>402661</td>\n",
       "      <td>70028</td>\n",
       "      <td>17507</td>\n",
       "      <td>1505602</td>\n",
       "      <td>17507</td>\n",
       "      <td>17507</td>\n",
       "      <td>0</td>\n",
       "      <td>0</td>\n",
       "      <td>0</td>\n",
       "      <td>87535</td>\n",
       "    </tr>\n",
       "    <tr>\n",
       "      <th>4</th>\n",
       "      <td>1151304</td>\n",
       "      <td>156996</td>\n",
       "      <td>0</td>\n",
       "      <td>0</td>\n",
       "      <td>69776</td>\n",
       "      <td>0</td>\n",
       "      <td>0</td>\n",
       "      <td>0</td>\n",
       "      <td>52332</td>\n",
       "      <td>104664</td>\n",
       "      <td>0</td>\n",
       "      <td>0</td>\n",
       "      <td>0</td>\n",
       "      <td>34888</td>\n",
       "      <td>17444</td>\n",
       "      <td>0</td>\n",
       "    </tr>\n",
       "    <tr>\n",
       "      <th>5</th>\n",
       "      <td>641459</td>\n",
       "      <td>235638</td>\n",
       "      <td>0</td>\n",
       "      <td>13091</td>\n",
       "      <td>13091</td>\n",
       "      <td>39273</td>\n",
       "      <td>144001</td>\n",
       "      <td>13091</td>\n",
       "      <td>0</td>\n",
       "      <td>65455</td>\n",
       "      <td>0</td>\n",
       "      <td>0</td>\n",
       "      <td>0</td>\n",
       "      <td>0</td>\n",
       "      <td>0</td>\n",
       "      <td>0</td>\n",
       "    </tr>\n",
       "    <tr>\n",
       "      <th>6</th>\n",
       "      <td>260760</td>\n",
       "      <td>69536</td>\n",
       "      <td>0</td>\n",
       "      <td>0</td>\n",
       "      <td>208608</td>\n",
       "      <td>0</td>\n",
       "      <td>191224</td>\n",
       "      <td>0</td>\n",
       "      <td>0</td>\n",
       "      <td>34768</td>\n",
       "      <td>0</td>\n",
       "      <td>0</td>\n",
       "      <td>0</td>\n",
       "      <td>0</td>\n",
       "      <td>0</td>\n",
       "      <td>0</td>\n",
       "    </tr>\n",
       "    <tr>\n",
       "      <th>7</th>\n",
       "      <td>248565</td>\n",
       "      <td>0</td>\n",
       "      <td>0</td>\n",
       "      <td>0</td>\n",
       "      <td>0</td>\n",
       "      <td>0</td>\n",
       "      <td>0</td>\n",
       "      <td>0</td>\n",
       "      <td>0</td>\n",
       "      <td>0</td>\n",
       "      <td>0</td>\n",
       "      <td>0</td>\n",
       "      <td>0</td>\n",
       "      <td>0</td>\n",
       "      <td>0</td>\n",
       "      <td>0</td>\n",
       "    </tr>\n",
       "    <tr>\n",
       "      <th>8</th>\n",
       "      <td>0</td>\n",
       "      <td>418632</td>\n",
       "      <td>0</td>\n",
       "      <td>0</td>\n",
       "      <td>0</td>\n",
       "      <td>0</td>\n",
       "      <td>122101</td>\n",
       "      <td>156987</td>\n",
       "      <td>0</td>\n",
       "      <td>488404</td>\n",
       "      <td>0</td>\n",
       "      <td>0</td>\n",
       "      <td>0</td>\n",
       "      <td>0</td>\n",
       "      <td>0</td>\n",
       "      <td>34886</td>\n",
       "    </tr>\n",
       "    <tr>\n",
       "      <th>9</th>\n",
       "      <td>1088451</td>\n",
       "      <td>310986</td>\n",
       "      <td>0</td>\n",
       "      <td>0</td>\n",
       "      <td>328263</td>\n",
       "      <td>0</td>\n",
       "      <td>293709</td>\n",
       "      <td>0</td>\n",
       "      <td>0</td>\n",
       "      <td>34554</td>\n",
       "      <td>0</td>\n",
       "      <td>0</td>\n",
       "      <td>86385</td>\n",
       "      <td>0</td>\n",
       "      <td>0</td>\n",
       "      <td>0</td>\n",
       "    </tr>\n",
       "    <tr>\n",
       "      <th>10</th>\n",
       "      <td>244314</td>\n",
       "      <td>69804</td>\n",
       "      <td>0</td>\n",
       "      <td>0</td>\n",
       "      <td>52353</td>\n",
       "      <td>0</td>\n",
       "      <td>87255</td>\n",
       "      <td>52353</td>\n",
       "      <td>0</td>\n",
       "      <td>0</td>\n",
       "      <td>0</td>\n",
       "      <td>0</td>\n",
       "      <td>0</td>\n",
       "      <td>17451</td>\n",
       "      <td>0</td>\n",
       "      <td>0</td>\n",
       "    </tr>\n",
       "    <tr>\n",
       "      <th>11</th>\n",
       "      <td>82855</td>\n",
       "      <td>0</td>\n",
       "      <td>0</td>\n",
       "      <td>0</td>\n",
       "      <td>0</td>\n",
       "      <td>0</td>\n",
       "      <td>0</td>\n",
       "      <td>0</td>\n",
       "      <td>0</td>\n",
       "      <td>0</td>\n",
       "      <td>0</td>\n",
       "      <td>0</td>\n",
       "      <td>0</td>\n",
       "      <td>0</td>\n",
       "      <td>0</td>\n",
       "      <td>0</td>\n",
       "    </tr>\n",
       "    <tr>\n",
       "      <th>12</th>\n",
       "      <td>345540</td>\n",
       "      <td>34554</td>\n",
       "      <td>0</td>\n",
       "      <td>0</td>\n",
       "      <td>0</td>\n",
       "      <td>0</td>\n",
       "      <td>155493</td>\n",
       "      <td>0</td>\n",
       "      <td>0</td>\n",
       "      <td>17277</td>\n",
       "      <td>0</td>\n",
       "      <td>51831</td>\n",
       "      <td>0</td>\n",
       "      <td>17277</td>\n",
       "      <td>0</td>\n",
       "      <td>0</td>\n",
       "    </tr>\n",
       "    <tr>\n",
       "      <th>13</th>\n",
       "      <td>437600</td>\n",
       "      <td>140032</td>\n",
       "      <td>17504</td>\n",
       "      <td>70016</td>\n",
       "      <td>175040</td>\n",
       "      <td>105024</td>\n",
       "      <td>1312800</td>\n",
       "      <td>52512</td>\n",
       "      <td>122528</td>\n",
       "      <td>87520</td>\n",
       "      <td>0</td>\n",
       "      <td>0</td>\n",
       "      <td>87520</td>\n",
       "      <td>17504</td>\n",
       "      <td>0</td>\n",
       "      <td>70016</td>\n",
       "    </tr>\n",
       "    <tr>\n",
       "      <th>14</th>\n",
       "      <td>454220</td>\n",
       "      <td>174700</td>\n",
       "      <td>34940</td>\n",
       "      <td>174700</td>\n",
       "      <td>157230</td>\n",
       "      <td>0</td>\n",
       "      <td>663860</td>\n",
       "      <td>0</td>\n",
       "      <td>0</td>\n",
       "      <td>122290</td>\n",
       "      <td>0</td>\n",
       "      <td>0</td>\n",
       "      <td>0</td>\n",
       "      <td>0</td>\n",
       "      <td>0</td>\n",
       "      <td>0</td>\n",
       "    </tr>\n",
       "    <tr>\n",
       "      <th>15</th>\n",
       "      <td>787704</td>\n",
       "      <td>273984</td>\n",
       "      <td>0</td>\n",
       "      <td>17124</td>\n",
       "      <td>496596</td>\n",
       "      <td>51372</td>\n",
       "      <td>325356</td>\n",
       "      <td>0</td>\n",
       "      <td>0</td>\n",
       "      <td>102744</td>\n",
       "      <td>17124</td>\n",
       "      <td>0</td>\n",
       "      <td>0</td>\n",
       "      <td>17124</td>\n",
       "      <td>34248</td>\n",
       "      <td>0</td>\n",
       "    </tr>\n",
       "  </tbody>\n",
       "</table>\n",
       "</div>"
      ],
      "text/plain": [
       "primary_use  Education  Entertainment/public assembly  Food sales and service  \\\n",
       "site_id                                                                         \n",
       "0               523290                          87215                       0   \n",
       "1               380270                          17285                       0   \n",
       "2              1068293                         367773                   35026   \n",
       "3              1610644                         770308                       0   \n",
       "4              1151304                         156996                       0   \n",
       "5               641459                         235638                       0   \n",
       "6               260760                          69536                       0   \n",
       "7               248565                              0                       0   \n",
       "8                    0                         418632                       0   \n",
       "9              1088451                         310986                       0   \n",
       "10              244314                          69804                       0   \n",
       "11               82855                              0                       0   \n",
       "12              345540                          34554                       0   \n",
       "13              437600                         140032                   17504   \n",
       "14              454220                         174700                   34940   \n",
       "15              787704                         273984                       0   \n",
       "\n",
       "primary_use  Healthcare  Lodging/residential  Manufacturing/industrial  \\\n",
       "site_id                                                                  \n",
       "0                     0               470961                         0   \n",
       "1                     0               172850                         0   \n",
       "2                 17513               210156                         0   \n",
       "3                105042               192577                         0   \n",
       "4                     0                69776                         0   \n",
       "5                 13091                13091                     39273   \n",
       "6                     0               208608                         0   \n",
       "7                     0                    0                         0   \n",
       "8                     0                    0                         0   \n",
       "9                     0               328263                         0   \n",
       "10                    0                52353                         0   \n",
       "11                    0                    0                         0   \n",
       "12                    0                    0                         0   \n",
       "13                70016               175040                    105024   \n",
       "14               174700               157230                         0   \n",
       "15                17124               496596                     51372   \n",
       "\n",
       "primary_use   Office   Other  Parking  Public services  Religious worship  \\\n",
       "site_id                                                                     \n",
       "0             418632   87215   139544                0                  0   \n",
       "1             276560       0        0            34570                  0   \n",
       "2             420312       0    52539           105078              17513   \n",
       "3             402661   70028    17507          1505602              17507   \n",
       "4                  0       0    52332           104664                  0   \n",
       "5             144001   13091        0            65455                  0   \n",
       "6             191224       0        0            34768                  0   \n",
       "7                  0       0        0                0                  0   \n",
       "8             122101  156987        0           488404                  0   \n",
       "9             293709       0        0            34554                  0   \n",
       "10             87255   52353        0                0                  0   \n",
       "11                 0       0        0                0                  0   \n",
       "12            155493       0        0            17277                  0   \n",
       "13           1312800   52512   122528            87520                  0   \n",
       "14            663860       0        0           122290                  0   \n",
       "15            325356       0        0           102744              17124   \n",
       "\n",
       "primary_use  Retail  Services  Technology/science  Utility  Warehouse/storage  \n",
       "site_id                                                                        \n",
       "0            104658         0                   0        0                  0  \n",
       "1                 0         0                   0        0                  0  \n",
       "2             17513         0                   0    17513              35026  \n",
       "3             17507         0                   0        0              87535  \n",
       "4                 0         0               34888    17444                  0  \n",
       "5                 0         0                   0        0                  0  \n",
       "6                 0         0                   0        0                  0  \n",
       "7                 0         0                   0        0                  0  \n",
       "8                 0         0                   0        0              34886  \n",
       "9                 0     86385                   0        0                  0  \n",
       "10                0         0               17451        0                  0  \n",
       "11                0         0                   0        0                  0  \n",
       "12            51831         0               17277        0                  0  \n",
       "13                0     87520               17504        0              70016  \n",
       "14                0         0                   0        0                  0  \n",
       "15                0         0               17124    34248                  0  "
      ]
     },
     "execution_count": 43,
     "metadata": {},
     "output_type": "execute_result"
    }
   ],
   "source": [
    "CT = pd.crosstab(index=gdcu[\"site_id\"], columns=gdcu[\"primary_use\"])\n",
    "CT"
   ]
  },
  {
   "cell_type": "code",
   "execution_count": 44,
   "id": "2e72e6f9",
   "metadata": {},
   "outputs": [
    {
     "data": {
      "text/html": [
       "<div>\n",
       "<style scoped>\n",
       "    .dataframe tbody tr th:only-of-type {\n",
       "        vertical-align: middle;\n",
       "    }\n",
       "\n",
       "    .dataframe tbody tr th {\n",
       "        vertical-align: top;\n",
       "    }\n",
       "\n",
       "    .dataframe thead th {\n",
       "        text-align: right;\n",
       "    }\n",
       "</style>\n",
       "<table border=\"1\" class=\"dataframe\">\n",
       "  <thead>\n",
       "    <tr style=\"text-align: right;\">\n",
       "      <th>air_temperature</th>\n",
       "      <th>-15.0</th>\n",
       "      <th>-14.9</th>\n",
       "      <th>-14.8</th>\n",
       "      <th>-14.7</th>\n",
       "      <th>-14.6</th>\n",
       "      <th>-14.5</th>\n",
       "      <th>-14.4</th>\n",
       "      <th>-14.3</th>\n",
       "      <th>-14.2</th>\n",
       "      <th>-14.1</th>\n",
       "      <th>...</th>\n",
       "      <th>42.2</th>\n",
       "      <th>42.8</th>\n",
       "      <th>43.3</th>\n",
       "      <th>43.9</th>\n",
       "      <th>44.4</th>\n",
       "      <th>45.0</th>\n",
       "      <th>45.6</th>\n",
       "      <th>46.1</th>\n",
       "      <th>46.7</th>\n",
       "      <th>47.2</th>\n",
       "    </tr>\n",
       "    <tr>\n",
       "      <th>dew_temperature</th>\n",
       "      <th></th>\n",
       "      <th></th>\n",
       "      <th></th>\n",
       "      <th></th>\n",
       "      <th></th>\n",
       "      <th></th>\n",
       "      <th></th>\n",
       "      <th></th>\n",
       "      <th></th>\n",
       "      <th></th>\n",
       "      <th></th>\n",
       "      <th></th>\n",
       "      <th></th>\n",
       "      <th></th>\n",
       "      <th></th>\n",
       "      <th></th>\n",
       "      <th></th>\n",
       "      <th></th>\n",
       "      <th></th>\n",
       "      <th></th>\n",
       "      <th></th>\n",
       "    </tr>\n",
       "  </thead>\n",
       "  <tbody>\n",
       "    <tr>\n",
       "      <th>-23.5</th>\n",
       "      <td>0</td>\n",
       "      <td>0</td>\n",
       "      <td>0</td>\n",
       "      <td>0</td>\n",
       "      <td>0</td>\n",
       "      <td>0</td>\n",
       "      <td>0</td>\n",
       "      <td>0</td>\n",
       "      <td>0</td>\n",
       "      <td>0</td>\n",
       "      <td>...</td>\n",
       "      <td>0</td>\n",
       "      <td>0</td>\n",
       "      <td>0</td>\n",
       "      <td>0</td>\n",
       "      <td>0</td>\n",
       "      <td>0</td>\n",
       "      <td>0</td>\n",
       "      <td>0</td>\n",
       "      <td>0</td>\n",
       "      <td>0</td>\n",
       "    </tr>\n",
       "    <tr>\n",
       "      <th>-23.4</th>\n",
       "      <td>0</td>\n",
       "      <td>0</td>\n",
       "      <td>0</td>\n",
       "      <td>0</td>\n",
       "      <td>0</td>\n",
       "      <td>0</td>\n",
       "      <td>0</td>\n",
       "      <td>0</td>\n",
       "      <td>0</td>\n",
       "      <td>0</td>\n",
       "      <td>...</td>\n",
       "      <td>0</td>\n",
       "      <td>0</td>\n",
       "      <td>0</td>\n",
       "      <td>0</td>\n",
       "      <td>0</td>\n",
       "      <td>0</td>\n",
       "      <td>0</td>\n",
       "      <td>0</td>\n",
       "      <td>0</td>\n",
       "      <td>0</td>\n",
       "    </tr>\n",
       "    <tr>\n",
       "      <th>-23.3</th>\n",
       "      <td>102</td>\n",
       "      <td>0</td>\n",
       "      <td>0</td>\n",
       "      <td>0</td>\n",
       "      <td>0</td>\n",
       "      <td>20</td>\n",
       "      <td>0</td>\n",
       "      <td>0</td>\n",
       "      <td>0</td>\n",
       "      <td>0</td>\n",
       "      <td>...</td>\n",
       "      <td>0</td>\n",
       "      <td>0</td>\n",
       "      <td>0</td>\n",
       "      <td>0</td>\n",
       "      <td>0</td>\n",
       "      <td>0</td>\n",
       "      <td>0</td>\n",
       "      <td>0</td>\n",
       "      <td>0</td>\n",
       "      <td>0</td>\n",
       "    </tr>\n",
       "    <tr>\n",
       "      <th>-23.2</th>\n",
       "      <td>0</td>\n",
       "      <td>0</td>\n",
       "      <td>0</td>\n",
       "      <td>0</td>\n",
       "      <td>0</td>\n",
       "      <td>0</td>\n",
       "      <td>0</td>\n",
       "      <td>20</td>\n",
       "      <td>0</td>\n",
       "      <td>0</td>\n",
       "      <td>...</td>\n",
       "      <td>0</td>\n",
       "      <td>0</td>\n",
       "      <td>0</td>\n",
       "      <td>0</td>\n",
       "      <td>0</td>\n",
       "      <td>0</td>\n",
       "      <td>0</td>\n",
       "      <td>0</td>\n",
       "      <td>0</td>\n",
       "      <td>0</td>\n",
       "    </tr>\n",
       "    <tr>\n",
       "      <th>-23.1</th>\n",
       "      <td>0</td>\n",
       "      <td>0</td>\n",
       "      <td>0</td>\n",
       "      <td>0</td>\n",
       "      <td>0</td>\n",
       "      <td>0</td>\n",
       "      <td>0</td>\n",
       "      <td>0</td>\n",
       "      <td>0</td>\n",
       "      <td>0</td>\n",
       "      <td>...</td>\n",
       "      <td>0</td>\n",
       "      <td>0</td>\n",
       "      <td>0</td>\n",
       "      <td>0</td>\n",
       "      <td>0</td>\n",
       "      <td>0</td>\n",
       "      <td>0</td>\n",
       "      <td>0</td>\n",
       "      <td>0</td>\n",
       "      <td>0</td>\n",
       "    </tr>\n",
       "    <tr>\n",
       "      <th>...</th>\n",
       "      <td>...</td>\n",
       "      <td>...</td>\n",
       "      <td>...</td>\n",
       "      <td>...</td>\n",
       "      <td>...</td>\n",
       "      <td>...</td>\n",
       "      <td>...</td>\n",
       "      <td>...</td>\n",
       "      <td>...</td>\n",
       "      <td>...</td>\n",
       "      <td>...</td>\n",
       "      <td>...</td>\n",
       "      <td>...</td>\n",
       "      <td>...</td>\n",
       "      <td>...</td>\n",
       "      <td>...</td>\n",
       "      <td>...</td>\n",
       "      <td>...</td>\n",
       "      <td>...</td>\n",
       "      <td>...</td>\n",
       "      <td>...</td>\n",
       "    </tr>\n",
       "    <tr>\n",
       "      <th>24.6</th>\n",
       "      <td>0</td>\n",
       "      <td>0</td>\n",
       "      <td>0</td>\n",
       "      <td>0</td>\n",
       "      <td>0</td>\n",
       "      <td>0</td>\n",
       "      <td>0</td>\n",
       "      <td>0</td>\n",
       "      <td>0</td>\n",
       "      <td>0</td>\n",
       "      <td>...</td>\n",
       "      <td>0</td>\n",
       "      <td>0</td>\n",
       "      <td>0</td>\n",
       "      <td>0</td>\n",
       "      <td>0</td>\n",
       "      <td>0</td>\n",
       "      <td>0</td>\n",
       "      <td>0</td>\n",
       "      <td>0</td>\n",
       "      <td>0</td>\n",
       "    </tr>\n",
       "    <tr>\n",
       "      <th>25.0</th>\n",
       "      <td>0</td>\n",
       "      <td>0</td>\n",
       "      <td>0</td>\n",
       "      <td>0</td>\n",
       "      <td>0</td>\n",
       "      <td>0</td>\n",
       "      <td>0</td>\n",
       "      <td>0</td>\n",
       "      <td>0</td>\n",
       "      <td>0</td>\n",
       "      <td>...</td>\n",
       "      <td>0</td>\n",
       "      <td>0</td>\n",
       "      <td>0</td>\n",
       "      <td>0</td>\n",
       "      <td>0</td>\n",
       "      <td>0</td>\n",
       "      <td>0</td>\n",
       "      <td>0</td>\n",
       "      <td>0</td>\n",
       "      <td>0</td>\n",
       "    </tr>\n",
       "    <tr>\n",
       "      <th>25.6</th>\n",
       "      <td>0</td>\n",
       "      <td>0</td>\n",
       "      <td>0</td>\n",
       "      <td>0</td>\n",
       "      <td>0</td>\n",
       "      <td>0</td>\n",
       "      <td>0</td>\n",
       "      <td>0</td>\n",
       "      <td>0</td>\n",
       "      <td>0</td>\n",
       "      <td>...</td>\n",
       "      <td>0</td>\n",
       "      <td>0</td>\n",
       "      <td>0</td>\n",
       "      <td>0</td>\n",
       "      <td>0</td>\n",
       "      <td>0</td>\n",
       "      <td>0</td>\n",
       "      <td>0</td>\n",
       "      <td>0</td>\n",
       "      <td>0</td>\n",
       "    </tr>\n",
       "    <tr>\n",
       "      <th>26.1</th>\n",
       "      <td>0</td>\n",
       "      <td>0</td>\n",
       "      <td>0</td>\n",
       "      <td>0</td>\n",
       "      <td>0</td>\n",
       "      <td>0</td>\n",
       "      <td>0</td>\n",
       "      <td>0</td>\n",
       "      <td>0</td>\n",
       "      <td>0</td>\n",
       "      <td>...</td>\n",
       "      <td>0</td>\n",
       "      <td>0</td>\n",
       "      <td>0</td>\n",
       "      <td>0</td>\n",
       "      <td>0</td>\n",
       "      <td>0</td>\n",
       "      <td>0</td>\n",
       "      <td>0</td>\n",
       "      <td>0</td>\n",
       "      <td>0</td>\n",
       "    </tr>\n",
       "    <tr>\n",
       "      <th>26.7</th>\n",
       "      <td>0</td>\n",
       "      <td>0</td>\n",
       "      <td>0</td>\n",
       "      <td>0</td>\n",
       "      <td>0</td>\n",
       "      <td>0</td>\n",
       "      <td>0</td>\n",
       "      <td>0</td>\n",
       "      <td>0</td>\n",
       "      <td>0</td>\n",
       "      <td>...</td>\n",
       "      <td>0</td>\n",
       "      <td>0</td>\n",
       "      <td>0</td>\n",
       "      <td>0</td>\n",
       "      <td>0</td>\n",
       "      <td>0</td>\n",
       "      <td>0</td>\n",
       "      <td>0</td>\n",
       "      <td>0</td>\n",
       "      <td>0</td>\n",
       "    </tr>\n",
       "  </tbody>\n",
       "</table>\n",
       "<p>485 rows × 521 columns</p>\n",
       "</div>"
      ],
      "text/plain": [
       "air_temperature  -15.0  -14.9  -14.8  -14.7  -14.6  -14.5  -14.4  -14.3  \\\n",
       "dew_temperature                                                           \n",
       "-23.5                0      0      0      0      0      0      0      0   \n",
       "-23.4                0      0      0      0      0      0      0      0   \n",
       "-23.3              102      0      0      0      0     20      0      0   \n",
       "-23.2                0      0      0      0      0      0      0     20   \n",
       "-23.1                0      0      0      0      0      0      0      0   \n",
       "...                ...    ...    ...    ...    ...    ...    ...    ...   \n",
       " 24.6                0      0      0      0      0      0      0      0   \n",
       " 25.0                0      0      0      0      0      0      0      0   \n",
       " 25.6                0      0      0      0      0      0      0      0   \n",
       " 26.1                0      0      0      0      0      0      0      0   \n",
       " 26.7                0      0      0      0      0      0      0      0   \n",
       "\n",
       "air_temperature  -14.2  -14.1  ...   42.2   42.8   43.3   43.9   44.4   45.0  \\\n",
       "dew_temperature                ...                                             \n",
       "-23.5                0      0  ...      0      0      0      0      0      0   \n",
       "-23.4                0      0  ...      0      0      0      0      0      0   \n",
       "-23.3                0      0  ...      0      0      0      0      0      0   \n",
       "-23.2                0      0  ...      0      0      0      0      0      0   \n",
       "-23.1                0      0  ...      0      0      0      0      0      0   \n",
       "...                ...    ...  ...    ...    ...    ...    ...    ...    ...   \n",
       " 24.6                0      0  ...      0      0      0      0      0      0   \n",
       " 25.0                0      0  ...      0      0      0      0      0      0   \n",
       " 25.6                0      0  ...      0      0      0      0      0      0   \n",
       " 26.1                0      0  ...      0      0      0      0      0      0   \n",
       " 26.7                0      0  ...      0      0      0      0      0      0   \n",
       "\n",
       "air_temperature   45.6   46.1   46.7   47.2  \n",
       "dew_temperature                              \n",
       "-23.5                0      0      0      0  \n",
       "-23.4                0      0      0      0  \n",
       "-23.3                0      0      0      0  \n",
       "-23.2                0      0      0      0  \n",
       "-23.1                0      0      0      0  \n",
       "...                ...    ...    ...    ...  \n",
       " 24.6                0      0      0      0  \n",
       " 25.0                0      0      0      0  \n",
       " 25.6                0      0      0      0  \n",
       " 26.1                0      0      0      0  \n",
       " 26.7                0      0      0      0  \n",
       "\n",
       "[485 rows x 521 columns]"
      ]
     },
     "execution_count": 44,
     "metadata": {},
     "output_type": "execute_result"
    }
   ],
   "source": [
    "CT_dew = pd.crosstab(index=gdcu[\"dew_temperature\"], columns=gdcu[\"air_temperature\"])\n",
    "CT_dew"
   ]
  },
  {
   "cell_type": "code",
   "execution_count": 45,
   "id": "3f32f086",
   "metadata": {},
   "outputs": [
    {
     "data": {
      "image/png": "[encoded data removed]",
      "text/plain": [
       "<Figure size 576x576 with 1 Axes>"
      ]
     },
     "metadata": {
      "needs_background": "light"
     },
     "output_type": "display_data"
    }
   ],
   "source": [
    "p = CT.plot(kind=\"bar\", figsize=(8,8), stacked=True)"
   ]
  },
  {
   "cell_type": "markdown",
   "id": "63e25d24",
   "metadata": {},
   "source": [
    "Berdasarkan visualisasi data di atas dengan mengambil variabel site_id (id lokasi) dan primary_use (Peruntukan Gedung), kita dapat mengetahui jika banyak perbedaan di setiap blok atau id lokasinya. Terlihat jika Education lebih mendominasi pada setiap blok 0, 1, hinggal blok 15. Kemudian, terlihat juga jika pada id atau blok 11, gedung hanya diperuntukan untuk Education, tidak dengan peruntukkan lainnya."
   ]
  },
  {
   "cell_type": "code",
   "execution_count": 46,
   "id": "c2cd54be",
   "metadata": {},
   "outputs": [
    {
     "data": {
      "image/png": "[encoded data removed]",
      "text/plain": [
       "<Figure size 1008x432 with 1 Axes>"
      ]
     },
     "metadata": {
      "needs_background": "light"
     },
     "output_type": "display_data"
    }
   ],
   "source": [
    "fig, axes = plt.subplots(1,1,figsize=(14, 6))\n",
    "gdcu['air_temperature'].value_counts(dropna=False).sort_index().plot(ax=axes).set_xlabel('air_temperature (°C)');\n",
    "gdcu['air_temperature'].value_counts(dropna=False).sort_index().plot(ax=axes).set_ylabel('Jumlah');\n",
    "axes.set_title('Grafik Temperature Udara', fontsize=16);"
   ]
  },
  {
   "cell_type": "markdown",
   "id": "b7f89588",
   "metadata": {},
   "source": [
    "Pada Grafik Temperature Udara di atas memperlihatkan jika frekuensi suhu antara 20 - 30 paling tinggi jumlahnya pada data gdcu (joint data Gedung dengan data cuaca). Hal ini berarti gedung-gedung yang dibangun sebagian besar berada di suhu antara 20 sampai 30 derajat."
   ]
  },
  {
   "cell_type": "code",
   "execution_count": 47,
   "id": "d8f4bda2",
   "metadata": {},
   "outputs": [
    {
     "data": {
      "image/png": "[encoded data removed]",
      "text/plain": [
       "<Figure size 432x288 with 1 Axes>"
      ]
     },
     "metadata": {
      "needs_background": "light"
     },
     "output_type": "display_data"
    }
   ],
   "source": [
    "gdcu.plot(x = 'site_id', y = ['cloud_coverage', 'dew_temperature', 'wind_speed'])\n",
    "plt.show()"
   ]
  },
  {
   "cell_type": "markdown",
   "id": "205e6ccf",
   "metadata": {},
   "source": [
    "# B. Gabungan GD dan EN "
   ]
  },
  {
   "cell_type": "code",
   "execution_count": 49,
   "id": "32ddec95",
   "metadata": {},
   "outputs": [
    {
     "data": {
      "text/html": [
       "<div>\n",
       "<style scoped>\n",
       "    .dataframe tbody tr th:only-of-type {\n",
       "        vertical-align: middle;\n",
       "    }\n",
       "\n",
       "    .dataframe tbody tr th {\n",
       "        vertical-align: top;\n",
       "    }\n",
       "\n",
       "    .dataframe thead th {\n",
       "        text-align: right;\n",
       "    }\n",
       "</style>\n",
       "<table border=\"1\" class=\"dataframe\">\n",
       "  <thead>\n",
       "    <tr style=\"text-align: right;\">\n",
       "      <th></th>\n",
       "      <th>site_id</th>\n",
       "      <th>building_id</th>\n",
       "      <th>primary_use</th>\n",
       "      <th>square_feet</th>\n",
       "      <th>year_built</th>\n",
       "      <th>floor_count</th>\n",
       "      <th>meter</th>\n",
       "      <th>timestamp</th>\n",
       "      <th>meter_reading</th>\n",
       "    </tr>\n",
       "  </thead>\n",
       "  <tbody>\n",
       "    <tr>\n",
       "      <th>0</th>\n",
       "      <td>0</td>\n",
       "      <td>0</td>\n",
       "      <td>Education</td>\n",
       "      <td>7432</td>\n",
       "      <td>2008.0</td>\n",
       "      <td>NaN</td>\n",
       "      <td>0</td>\n",
       "      <td>2016-01-01 00:00:00</td>\n",
       "      <td>0.000</td>\n",
       "    </tr>\n",
       "    <tr>\n",
       "      <th>1</th>\n",
       "      <td>0</td>\n",
       "      <td>0</td>\n",
       "      <td>Education</td>\n",
       "      <td>7432</td>\n",
       "      <td>2008.0</td>\n",
       "      <td>NaN</td>\n",
       "      <td>0</td>\n",
       "      <td>2016-01-01 01:00:00</td>\n",
       "      <td>0.000</td>\n",
       "    </tr>\n",
       "    <tr>\n",
       "      <th>2</th>\n",
       "      <td>0</td>\n",
       "      <td>0</td>\n",
       "      <td>Education</td>\n",
       "      <td>7432</td>\n",
       "      <td>2008.0</td>\n",
       "      <td>NaN</td>\n",
       "      <td>0</td>\n",
       "      <td>2016-01-01 02:00:00</td>\n",
       "      <td>0.000</td>\n",
       "    </tr>\n",
       "    <tr>\n",
       "      <th>3</th>\n",
       "      <td>0</td>\n",
       "      <td>0</td>\n",
       "      <td>Education</td>\n",
       "      <td>7432</td>\n",
       "      <td>2008.0</td>\n",
       "      <td>NaN</td>\n",
       "      <td>0</td>\n",
       "      <td>2016-01-01 03:00:00</td>\n",
       "      <td>0.000</td>\n",
       "    </tr>\n",
       "    <tr>\n",
       "      <th>4</th>\n",
       "      <td>0</td>\n",
       "      <td>0</td>\n",
       "      <td>Education</td>\n",
       "      <td>7432</td>\n",
       "      <td>2008.0</td>\n",
       "      <td>NaN</td>\n",
       "      <td>0</td>\n",
       "      <td>2016-01-01 04:00:00</td>\n",
       "      <td>0.000</td>\n",
       "    </tr>\n",
       "    <tr>\n",
       "      <th>...</th>\n",
       "      <td>...</td>\n",
       "      <td>...</td>\n",
       "      <td>...</td>\n",
       "      <td>...</td>\n",
       "      <td>...</td>\n",
       "      <td>...</td>\n",
       "      <td>...</td>\n",
       "      <td>...</td>\n",
       "      <td>...</td>\n",
       "    </tr>\n",
       "    <tr>\n",
       "      <th>20216095</th>\n",
       "      <td>15</td>\n",
       "      <td>1448</td>\n",
       "      <td>Office</td>\n",
       "      <td>92271</td>\n",
       "      <td>2001.0</td>\n",
       "      <td>NaN</td>\n",
       "      <td>0</td>\n",
       "      <td>2016-12-31 19:00:00</td>\n",
       "      <td>3.400</td>\n",
       "    </tr>\n",
       "    <tr>\n",
       "      <th>20216096</th>\n",
       "      <td>15</td>\n",
       "      <td>1448</td>\n",
       "      <td>Office</td>\n",
       "      <td>92271</td>\n",
       "      <td>2001.0</td>\n",
       "      <td>NaN</td>\n",
       "      <td>0</td>\n",
       "      <td>2016-12-31 20:00:00</td>\n",
       "      <td>2.700</td>\n",
       "    </tr>\n",
       "    <tr>\n",
       "      <th>20216097</th>\n",
       "      <td>15</td>\n",
       "      <td>1448</td>\n",
       "      <td>Office</td>\n",
       "      <td>92271</td>\n",
       "      <td>2001.0</td>\n",
       "      <td>NaN</td>\n",
       "      <td>0</td>\n",
       "      <td>2016-12-31 21:00:00</td>\n",
       "      <td>3.050</td>\n",
       "    </tr>\n",
       "    <tr>\n",
       "      <th>20216098</th>\n",
       "      <td>15</td>\n",
       "      <td>1448</td>\n",
       "      <td>Office</td>\n",
       "      <td>92271</td>\n",
       "      <td>2001.0</td>\n",
       "      <td>NaN</td>\n",
       "      <td>0</td>\n",
       "      <td>2016-12-31 22:00:00</td>\n",
       "      <td>3.125</td>\n",
       "    </tr>\n",
       "    <tr>\n",
       "      <th>20216099</th>\n",
       "      <td>15</td>\n",
       "      <td>1448</td>\n",
       "      <td>Office</td>\n",
       "      <td>92271</td>\n",
       "      <td>2001.0</td>\n",
       "      <td>NaN</td>\n",
       "      <td>0</td>\n",
       "      <td>2016-12-31 23:00:00</td>\n",
       "      <td>2.850</td>\n",
       "    </tr>\n",
       "  </tbody>\n",
       "</table>\n",
       "<p>20216100 rows × 9 columns</p>\n",
       "</div>"
      ],
      "text/plain": [
       "          site_id  building_id primary_use  square_feet  year_built  \\\n",
       "0               0            0   Education         7432      2008.0   \n",
       "1               0            0   Education         7432      2008.0   \n",
       "2               0            0   Education         7432      2008.0   \n",
       "3               0            0   Education         7432      2008.0   \n",
       "4               0            0   Education         7432      2008.0   \n",
       "...           ...          ...         ...          ...         ...   \n",
       "20216095       15         1448      Office        92271      2001.0   \n",
       "20216096       15         1448      Office        92271      2001.0   \n",
       "20216097       15         1448      Office        92271      2001.0   \n",
       "20216098       15         1448      Office        92271      2001.0   \n",
       "20216099       15         1448      Office        92271      2001.0   \n",
       "\n",
       "          floor_count  meter            timestamp  meter_reading  \n",
       "0                 NaN      0  2016-01-01 00:00:00          0.000  \n",
       "1                 NaN      0  2016-01-01 01:00:00          0.000  \n",
       "2                 NaN      0  2016-01-01 02:00:00          0.000  \n",
       "3                 NaN      0  2016-01-01 03:00:00          0.000  \n",
       "4                 NaN      0  2016-01-01 04:00:00          0.000  \n",
       "...               ...    ...                  ...            ...  \n",
       "20216095          NaN      0  2016-12-31 19:00:00          3.400  \n",
       "20216096          NaN      0  2016-12-31 20:00:00          2.700  \n",
       "20216097          NaN      0  2016-12-31 21:00:00          3.050  \n",
       "20216098          NaN      0  2016-12-31 22:00:00          3.125  \n",
       "20216099          NaN      0  2016-12-31 23:00:00          2.850  \n",
       "\n",
       "[20216100 rows x 9 columns]"
      ]
     },
     "execution_count": 49,
     "metadata": {},
     "output_type": "execute_result"
    }
   ],
   "source": [
    "gden = pd.merge(gd, en)\n",
    "gden"
   ]
  },
  {
   "cell_type": "markdown",
   "id": "82289ec3",
   "metadata": {},
   "source": [
    "**1. Missing Value gd_en**"
   ]
  },
  {
   "cell_type": "code",
   "execution_count": 50,
   "id": "b76a5418",
   "metadata": {},
   "outputs": [
    {
     "data": {
      "text/plain": [
       "site_id                 0\n",
       "building_id             0\n",
       "primary_use             0\n",
       "square_feet             0\n",
       "year_built       12127645\n",
       "floor_count      16709167\n",
       "meter                   0\n",
       "timestamp               0\n",
       "meter_reading           0\n",
       "dtype: int64"
      ]
     },
     "execution_count": 50,
     "metadata": {},
     "output_type": "execute_result"
    }
   ],
   "source": [
    "gden.isnull().sum()"
   ]
  },
  {
   "cell_type": "markdown",
   "id": "6e0d73e1",
   "metadata": {},
   "source": [
    "Karena pada kolom floor_count terdapat lebih ari 50% Missing Value maka kita bisa hilangkan tabel itu dengan menggunakan drop dan untuk kolom year_built bisa kita atasi dengan mengisi 0"
   ]
  },
  {
   "cell_type": "code",
   "execution_count": 51,
   "id": "86845055",
   "metadata": {},
   "outputs": [],
   "source": [
    "gden.drop('floor_count', axis = 1, inplace = True) #untuk menghilangkan tabel floor_count\n",
    "gden.fillna(0, inplace = True)"
   ]
  },
  {
   "cell_type": "code",
   "execution_count": 52,
   "id": "621821c9",
   "metadata": {},
   "outputs": [
    {
     "data": {
      "text/plain": [
       "site_id          0\n",
       "building_id      0\n",
       "primary_use      0\n",
       "square_feet      0\n",
       "year_built       0\n",
       "meter            0\n",
       "timestamp        0\n",
       "meter_reading    0\n",
       "dtype: int64"
      ]
     },
     "execution_count": 52,
     "metadata": {},
     "output_type": "execute_result"
    }
   ],
   "source": [
    "gden.isnull().sum()"
   ]
  },
  {
   "cell_type": "markdown",
   "id": "cedf5875",
   "metadata": {},
   "source": [
    "**2. Duplicated Data**"
   ]
  },
  {
   "cell_type": "code",
   "execution_count": 53,
   "id": "26ccb381",
   "metadata": {},
   "outputs": [
    {
     "name": "stdout",
     "output_type": "stream",
     "text": [
      "(20216100, 8)\n"
     ]
    },
    {
     "data": {
      "text/plain": [
       "0"
      ]
     },
     "execution_count": 53,
     "metadata": {},
     "output_type": "execute_result"
    }
   ],
   "source": [
    "print(gden.shape)\n",
    "gden.duplicated().sum()"
   ]
  },
  {
   "cell_type": "markdown",
   "id": "2833fbd4",
   "metadata": {},
   "source": [
    "**3. Outlier**"
   ]
  },
  {
   "cell_type": "markdown",
   "id": "53831652",
   "metadata": {},
   "source": [
    "a. Outlier pada kolom square_feet"
   ]
  },
  {
   "cell_type": "code",
   "execution_count": 54,
   "id": "363ed836",
   "metadata": {},
   "outputs": [
    {
     "data": {
      "text/plain": [
       "Text(0.5, 1.0, 'Square Feet')"
      ]
     },
     "execution_count": 54,
     "metadata": {},
     "output_type": "execute_result"
    },
    {
     "data": {
      "image/png": "[encoded data removed]",
      "text/plain": [
       "<Figure size 1008x432 with 1 Axes>"
      ]
     },
     "metadata": {
      "needs_background": "light"
     },
     "output_type": "display_data"
    }
   ],
   "source": [
    "fig, ax = plt.subplots(figsize = (14,6))\n",
    "sns.boxplot(x = gden.square_feet).set_title('Square Feet')"
   ]
  },
  {
   "cell_type": "code",
   "execution_count": 55,
   "id": "c69fab9b",
   "metadata": {},
   "outputs": [
    {
     "name": "stdout",
     "output_type": "stream",
     "text": [
      "Q1 = 32527.0\n",
      "Q2 = 139113.0\n",
      "IQR = 106586.0\n"
     ]
    }
   ],
   "source": [
    "# Deteksi Outlier menggunakan nilai IQR\n",
    "\n",
    "Q1 = gden.square_feet.quantile(0.25)\n",
    "Q3 = gden.square_feet.quantile(0.75)\n",
    "IQR = Q3 - Q1\n",
    "print('Q1 =', Q1)\n",
    "print('Q2 =', Q3)\n",
    "print('IQR =', IQR)"
   ]
  },
  {
   "cell_type": "code",
   "execution_count": 56,
   "id": "c91f8e74",
   "metadata": {},
   "outputs": [
    {
     "name": "stdout",
     "output_type": "stream",
     "text": [
      "batas bawah = -127352.0\n",
      "batas atas = 298992.0\n"
     ]
    }
   ],
   "source": [
    "# Menentukan batas bawah dan batas atas\n",
    "\n",
    "batasBawah = Q1 - (1.5 * IQR)\n",
    "batasAtas = Q3 + (1.5 * IQR)\n",
    "print('batas bawah =', batasBawah)\n",
    "print('batas atas =', batasAtas)"
   ]
  },
  {
   "cell_type": "code",
   "execution_count": 57,
   "id": "1b53f8e6",
   "metadata": {},
   "outputs": [
    {
     "data": {
      "image/png": "[encoded data removed]",
      "text/plain": [
       "<Figure size 1080x504 with 1 Axes>"
      ]
     },
     "metadata": {
      "needs_background": "light"
     },
     "output_type": "display_data"
    }
   ],
   "source": [
    "# handle outlier dengan replace menggantinya dengan nilai mean\n",
    "\n",
    "gden['square_feet'] = gden.square_feet.mask(gden.square_feet > batasAtas, gden.square_feet.mean())\n",
    "gden['square_feet'] = gden.square_feet.mask(gden.square_feet < batasBawah, gden.square_feet.mean())\n",
    "fig, ax = plt.subplots(figsize = (15,7))\n",
    "fig = sns.boxplot(x = gden.square_feet).set_title('Square Feet Boxplot')"
   ]
  },
  {
   "cell_type": "markdown",
   "id": "aaf54025",
   "metadata": {},
   "source": [
    "b. Outlier pada meter_reading"
   ]
  },
  {
   "cell_type": "code",
   "execution_count": 58,
   "id": "b3b5f5cd",
   "metadata": {},
   "outputs": [
    {
     "data": {
      "text/plain": [
       "Text(0.5, 1.0, 'Meter Reading')"
      ]
     },
     "execution_count": 58,
     "metadata": {},
     "output_type": "execute_result"
    },
    {
     "data": {
      "image/png": "[encoded data removed]",
      "text/plain": [
       "<Figure size 1008x432 with 1 Axes>"
      ]
     },
     "metadata": {
      "needs_background": "light"
     },
     "output_type": "display_data"
    }
   ],
   "source": [
    "fig, ax = plt.subplots(figsize = (14,6))\n",
    "sns.boxplot(x = gden.meter_reading).set_title('Meter Reading')"
   ]
  },
  {
   "cell_type": "code",
   "execution_count": 59,
   "id": "8c47ea46",
   "metadata": {},
   "outputs": [
    {
     "name": "stdout",
     "output_type": "stream",
     "text": [
      "Q1 = 18.3\n",
      "Q2 = 267.98400000000004\n",
      "IQR = 249.68400000000003\n"
     ]
    }
   ],
   "source": [
    "# Deteksi Outlier menggunakan nilai IQR\n",
    "\n",
    "Q1 = gden.meter_reading.quantile(0.25)\n",
    "Q3 = gden.meter_reading.quantile(0.75)\n",
    "IQR = Q3 - Q1\n",
    "print('Q1 =', Q1)\n",
    "print('Q2 =', Q3)\n",
    "print('IQR =', IQR)"
   ]
  },
  {
   "cell_type": "code",
   "execution_count": 60,
   "id": "343ebbeb",
   "metadata": {},
   "outputs": [
    {
     "name": "stdout",
     "output_type": "stream",
     "text": [
      "batas bawah = -356.22600000000006\n",
      "batas atas = 642.5100000000001\n"
     ]
    }
   ],
   "source": [
    "# Menentukan batas bawah dan batas atas\n",
    "\n",
    "batasBawah = Q1 - (1.5 * IQR)\n",
    "batasAtas = Q3 + (1.5 * IQR)\n",
    "print('batas bawah =', batasBawah)\n",
    "print('batas atas =', batasAtas)"
   ]
  },
  {
   "cell_type": "code",
   "execution_count": 61,
   "id": "d2e10bd8",
   "metadata": {},
   "outputs": [
    {
     "data": {
      "image/png": "[encoded data removed]",
      "text/plain": [
       "<Figure size 1080x504 with 1 Axes>"
      ]
     },
     "metadata": {
      "needs_background": "light"
     },
     "output_type": "display_data"
    }
   ],
   "source": [
    "# handle outlier dengan replace menggantinya dengan nilai mean\n",
    "\n",
    "gden['meter_reading'] = gden.meter_reading.mask(gden.meter_reading > batasAtas, gden.meter_reading.mean())\n",
    "gden['meter_reading'] = gden.meter_reading.mask(gden.meter_reading < batasBawah, gden.meter_reading.mean())\n",
    "fig, ax = plt.subplots(figsize = (15,7))\n",
    "fig = sns.boxplot(x = gden.meter_reading).set_title('Meter Reading Boxplot')"
   ]
  },
  {
   "cell_type": "markdown",
   "id": "fccb1f8d",
   "metadata": {},
   "source": [
    "**4. Statistike Deskriptif**"
   ]
  },
  {
   "cell_type": "code",
   "execution_count": 62,
   "id": "d8a93bbf",
   "metadata": {},
   "outputs": [
    {
     "data": {
      "text/html": [
       "<div>\n",
       "<style scoped>\n",
       "    .dataframe tbody tr th:only-of-type {\n",
       "        vertical-align: middle;\n",
       "    }\n",
       "\n",
       "    .dataframe tbody tr th {\n",
       "        vertical-align: top;\n",
       "    }\n",
       "\n",
       "    .dataframe thead th {\n",
       "        text-align: right;\n",
       "    }\n",
       "</style>\n",
       "<table border=\"1\" class=\"dataframe\">\n",
       "  <thead>\n",
       "    <tr style=\"text-align: right;\">\n",
       "      <th></th>\n",
       "      <th>site_id</th>\n",
       "      <th>building_id</th>\n",
       "      <th>square_feet</th>\n",
       "      <th>year_built</th>\n",
       "      <th>meter</th>\n",
       "      <th>meter_reading</th>\n",
       "    </tr>\n",
       "  </thead>\n",
       "  <tbody>\n",
       "    <tr>\n",
       "      <th>count</th>\n",
       "      <td>2.021610e+07</td>\n",
       "      <td>2.021610e+07</td>\n",
       "      <td>2.021610e+07</td>\n",
       "      <td>2.021610e+07</td>\n",
       "      <td>2.021610e+07</td>\n",
       "      <td>2.021610e+07</td>\n",
       "    </tr>\n",
       "    <tr>\n",
       "      <th>mean</th>\n",
       "      <td>7.992232e+00</td>\n",
       "      <td>7.992780e+02</td>\n",
       "      <td>8.725234e+04</td>\n",
       "      <td>7.875069e+02</td>\n",
       "      <td>6.624412e-01</td>\n",
       "      <td>3.624457e+02</td>\n",
       "    </tr>\n",
       "    <tr>\n",
       "      <th>std</th>\n",
       "      <td>5.099060e+00</td>\n",
       "      <td>4.269133e+02</td>\n",
       "      <td>6.824965e+04</td>\n",
       "      <td>9.644841e+02</td>\n",
       "      <td>9.309921e-01</td>\n",
       "      <td>6.692184e+02</td>\n",
       "    </tr>\n",
       "    <tr>\n",
       "      <th>min</th>\n",
       "      <td>0.000000e+00</td>\n",
       "      <td>0.000000e+00</td>\n",
       "      <td>2.830000e+02</td>\n",
       "      <td>0.000000e+00</td>\n",
       "      <td>0.000000e+00</td>\n",
       "      <td>0.000000e+00</td>\n",
       "    </tr>\n",
       "    <tr>\n",
       "      <th>25%</th>\n",
       "      <td>3.000000e+00</td>\n",
       "      <td>3.930000e+02</td>\n",
       "      <td>3.252700e+04</td>\n",
       "      <td>0.000000e+00</td>\n",
       "      <td>0.000000e+00</td>\n",
       "      <td>1.830000e+01</td>\n",
       "    </tr>\n",
       "    <tr>\n",
       "      <th>50%</th>\n",
       "      <td>9.000000e+00</td>\n",
       "      <td>8.950000e+02</td>\n",
       "      <td>7.270900e+04</td>\n",
       "      <td>0.000000e+00</td>\n",
       "      <td>0.000000e+00</td>\n",
       "      <td>7.877500e+01</td>\n",
       "    </tr>\n",
       "    <tr>\n",
       "      <th>75%</th>\n",
       "      <td>1.300000e+01</td>\n",
       "      <td>1.179000e+03</td>\n",
       "      <td>1.182310e+05</td>\n",
       "      <td>1.964000e+03</td>\n",
       "      <td>1.000000e+00</td>\n",
       "      <td>2.679840e+02</td>\n",
       "    </tr>\n",
       "    <tr>\n",
       "      <th>max</th>\n",
       "      <td>1.500000e+01</td>\n",
       "      <td>1.448000e+03</td>\n",
       "      <td>2.950000e+05</td>\n",
       "      <td>2.017000e+03</td>\n",
       "      <td>3.000000e+00</td>\n",
       "      <td>2.117121e+03</td>\n",
       "    </tr>\n",
       "  </tbody>\n",
       "</table>\n",
       "</div>"
      ],
      "text/plain": [
       "            site_id   building_id   square_feet    year_built         meter  \\\n",
       "count  2.021610e+07  2.021610e+07  2.021610e+07  2.021610e+07  2.021610e+07   \n",
       "mean   7.992232e+00  7.992780e+02  8.725234e+04  7.875069e+02  6.624412e-01   \n",
       "std    5.099060e+00  4.269133e+02  6.824965e+04  9.644841e+02  9.309921e-01   \n",
       "min    0.000000e+00  0.000000e+00  2.830000e+02  0.000000e+00  0.000000e+00   \n",
       "25%    3.000000e+00  3.930000e+02  3.252700e+04  0.000000e+00  0.000000e+00   \n",
       "50%    9.000000e+00  8.950000e+02  7.270900e+04  0.000000e+00  0.000000e+00   \n",
       "75%    1.300000e+01  1.179000e+03  1.182310e+05  1.964000e+03  1.000000e+00   \n",
       "max    1.500000e+01  1.448000e+03  2.950000e+05  2.017000e+03  3.000000e+00   \n",
       "\n",
       "       meter_reading  \n",
       "count   2.021610e+07  \n",
       "mean    3.624457e+02  \n",
       "std     6.692184e+02  \n",
       "min     0.000000e+00  \n",
       "25%     1.830000e+01  \n",
       "50%     7.877500e+01  \n",
       "75%     2.679840e+02  \n",
       "max     2.117121e+03  "
      ]
     },
     "execution_count": 62,
     "metadata": {},
     "output_type": "execute_result"
    }
   ],
   "source": [
    "gden.describe()"
   ]
  },
  {
   "cell_type": "code",
   "execution_count": 63,
   "id": "369214fe",
   "metadata": {},
   "outputs": [
    {
     "data": {
      "text/html": [
       "<div>\n",
       "<style scoped>\n",
       "    .dataframe tbody tr th:only-of-type {\n",
       "        vertical-align: middle;\n",
       "    }\n",
       "\n",
       "    .dataframe tbody tr th {\n",
       "        vertical-align: top;\n",
       "    }\n",
       "\n",
       "    .dataframe thead th {\n",
       "        text-align: right;\n",
       "    }\n",
       "</style>\n",
       "<table border=\"1\" class=\"dataframe\">\n",
       "  <thead>\n",
       "    <tr style=\"text-align: right;\">\n",
       "      <th></th>\n",
       "      <th>site_id</th>\n",
       "      <th>building_id</th>\n",
       "      <th>primary_use</th>\n",
       "      <th>square_feet</th>\n",
       "      <th>year_built</th>\n",
       "      <th>meter</th>\n",
       "      <th>timestamp</th>\n",
       "      <th>meter_reading</th>\n",
       "    </tr>\n",
       "  </thead>\n",
       "  <tbody>\n",
       "    <tr>\n",
       "      <th>count</th>\n",
       "      <td>2.021610e+07</td>\n",
       "      <td>2.021610e+07</td>\n",
       "      <td>20216100</td>\n",
       "      <td>2.021610e+07</td>\n",
       "      <td>2.021610e+07</td>\n",
       "      <td>2.021610e+07</td>\n",
       "      <td>20216100</td>\n",
       "      <td>2.021610e+07</td>\n",
       "    </tr>\n",
       "    <tr>\n",
       "      <th>unique</th>\n",
       "      <td>NaN</td>\n",
       "      <td>NaN</td>\n",
       "      <td>16</td>\n",
       "      <td>NaN</td>\n",
       "      <td>NaN</td>\n",
       "      <td>NaN</td>\n",
       "      <td>8784</td>\n",
       "      <td>NaN</td>\n",
       "    </tr>\n",
       "    <tr>\n",
       "      <th>top</th>\n",
       "      <td>NaN</td>\n",
       "      <td>NaN</td>\n",
       "      <td>Education</td>\n",
       "      <td>NaN</td>\n",
       "      <td>NaN</td>\n",
       "      <td>NaN</td>\n",
       "      <td>2016-12-27 22:00:00</td>\n",
       "      <td>NaN</td>\n",
       "    </tr>\n",
       "    <tr>\n",
       "      <th>freq</th>\n",
       "      <td>NaN</td>\n",
       "      <td>NaN</td>\n",
       "      <td>8165504</td>\n",
       "      <td>NaN</td>\n",
       "      <td>NaN</td>\n",
       "      <td>NaN</td>\n",
       "      <td>2370</td>\n",
       "      <td>NaN</td>\n",
       "    </tr>\n",
       "    <tr>\n",
       "      <th>mean</th>\n",
       "      <td>7.992232e+00</td>\n",
       "      <td>7.992780e+02</td>\n",
       "      <td>NaN</td>\n",
       "      <td>8.725234e+04</td>\n",
       "      <td>7.875069e+02</td>\n",
       "      <td>6.624412e-01</td>\n",
       "      <td>NaN</td>\n",
       "      <td>3.624457e+02</td>\n",
       "    </tr>\n",
       "    <tr>\n",
       "      <th>std</th>\n",
       "      <td>5.099060e+00</td>\n",
       "      <td>4.269133e+02</td>\n",
       "      <td>NaN</td>\n",
       "      <td>6.824965e+04</td>\n",
       "      <td>9.644841e+02</td>\n",
       "      <td>9.309921e-01</td>\n",
       "      <td>NaN</td>\n",
       "      <td>6.692184e+02</td>\n",
       "    </tr>\n",
       "    <tr>\n",
       "      <th>min</th>\n",
       "      <td>0.000000e+00</td>\n",
       "      <td>0.000000e+00</td>\n",
       "      <td>NaN</td>\n",
       "      <td>2.830000e+02</td>\n",
       "      <td>0.000000e+00</td>\n",
       "      <td>0.000000e+00</td>\n",
       "      <td>NaN</td>\n",
       "      <td>0.000000e+00</td>\n",
       "    </tr>\n",
       "    <tr>\n",
       "      <th>25%</th>\n",
       "      <td>3.000000e+00</td>\n",
       "      <td>3.930000e+02</td>\n",
       "      <td>NaN</td>\n",
       "      <td>3.252700e+04</td>\n",
       "      <td>0.000000e+00</td>\n",
       "      <td>0.000000e+00</td>\n",
       "      <td>NaN</td>\n",
       "      <td>1.830000e+01</td>\n",
       "    </tr>\n",
       "    <tr>\n",
       "      <th>50%</th>\n",
       "      <td>9.000000e+00</td>\n",
       "      <td>8.950000e+02</td>\n",
       "      <td>NaN</td>\n",
       "      <td>7.270900e+04</td>\n",
       "      <td>0.000000e+00</td>\n",
       "      <td>0.000000e+00</td>\n",
       "      <td>NaN</td>\n",
       "      <td>7.877500e+01</td>\n",
       "    </tr>\n",
       "    <tr>\n",
       "      <th>75%</th>\n",
       "      <td>1.300000e+01</td>\n",
       "      <td>1.179000e+03</td>\n",
       "      <td>NaN</td>\n",
       "      <td>1.182310e+05</td>\n",
       "      <td>1.964000e+03</td>\n",
       "      <td>1.000000e+00</td>\n",
       "      <td>NaN</td>\n",
       "      <td>2.679840e+02</td>\n",
       "    </tr>\n",
       "    <tr>\n",
       "      <th>max</th>\n",
       "      <td>1.500000e+01</td>\n",
       "      <td>1.448000e+03</td>\n",
       "      <td>NaN</td>\n",
       "      <td>2.950000e+05</td>\n",
       "      <td>2.017000e+03</td>\n",
       "      <td>3.000000e+00</td>\n",
       "      <td>NaN</td>\n",
       "      <td>2.117121e+03</td>\n",
       "    </tr>\n",
       "  </tbody>\n",
       "</table>\n",
       "</div>"
      ],
      "text/plain": [
       "             site_id   building_id primary_use   square_feet    year_built  \\\n",
       "count   2.021610e+07  2.021610e+07    20216100  2.021610e+07  2.021610e+07   \n",
       "unique           NaN           NaN          16           NaN           NaN   \n",
       "top              NaN           NaN   Education           NaN           NaN   \n",
       "freq             NaN           NaN     8165504           NaN           NaN   \n",
       "mean    7.992232e+00  7.992780e+02         NaN  8.725234e+04  7.875069e+02   \n",
       "std     5.099060e+00  4.269133e+02         NaN  6.824965e+04  9.644841e+02   \n",
       "min     0.000000e+00  0.000000e+00         NaN  2.830000e+02  0.000000e+00   \n",
       "25%     3.000000e+00  3.930000e+02         NaN  3.252700e+04  0.000000e+00   \n",
       "50%     9.000000e+00  8.950000e+02         NaN  7.270900e+04  0.000000e+00   \n",
       "75%     1.300000e+01  1.179000e+03         NaN  1.182310e+05  1.964000e+03   \n",
       "max     1.500000e+01  1.448000e+03         NaN  2.950000e+05  2.017000e+03   \n",
       "\n",
       "               meter            timestamp  meter_reading  \n",
       "count   2.021610e+07             20216100   2.021610e+07  \n",
       "unique           NaN                 8784            NaN  \n",
       "top              NaN  2016-12-27 22:00:00            NaN  \n",
       "freq             NaN                 2370            NaN  \n",
       "mean    6.624412e-01                  NaN   3.624457e+02  \n",
       "std     9.309921e-01                  NaN   6.692184e+02  \n",
       "min     0.000000e+00                  NaN   0.000000e+00  \n",
       "25%     0.000000e+00                  NaN   1.830000e+01  \n",
       "50%     0.000000e+00                  NaN   7.877500e+01  \n",
       "75%     1.000000e+00                  NaN   2.679840e+02  \n",
       "max     3.000000e+00                  NaN   2.117121e+03  "
      ]
     },
     "execution_count": 63,
     "metadata": {},
     "output_type": "execute_result"
    }
   ],
   "source": [
    "# Statistika Sederhana dari data \"Numerik\"-nya\n",
    "gden.describe(include='all')"
   ]
  },
  {
   "cell_type": "markdown",
   "id": "b204b762",
   "metadata": {},
   "source": [
    "**5. Visualisasi**"
   ]
  },
  {
   "cell_type": "code",
   "execution_count": 64,
   "id": "fb2439a2",
   "metadata": {},
   "outputs": [
    {
     "data": {
      "image/png": "[encoded data removed]",
      "text/plain": [
       "<Figure size 720x360 with 1 Axes>"
      ]
     },
     "metadata": {
      "needs_background": "light"
     },
     "output_type": "display_data"
    },
    {
     "data": {
      "image/png": "[encoded data removed]",
      "text/plain": [
       "<Figure size 720x360 with 1 Axes>"
      ]
     },
     "metadata": {
      "needs_background": "light"
     },
     "output_type": "display_data"
    },
    {
     "data": {
      "image/png": "[encoded data removed]",
      "text/plain": [
       "<Figure size 720x360 with 1 Axes>"
      ]
     },
     "metadata": {
      "needs_background": "light"
     },
     "output_type": "display_data"
    },
    {
     "data": {
      "image/png": "[encoded data removed]",
      "text/plain": [
       "<Figure size 720x360 with 1 Axes>"
      ]
     },
     "metadata": {
      "needs_background": "light"
     },
     "output_type": "display_data"
    }
   ],
   "source": [
    "meter_arr = gden['meter'].unique()\n",
    "for meter in meter_arr:\n",
    "    mask = gden['meter'] == meter\n",
    "    plt.figure(figsize=(10, 5))\n",
    "    sns.scatterplot(data = gden[mask], x = 'meter_reading', y = 'square_feet')\n",
    "    plt.xlabel('Meter: {}'.format(meter))\n",
    "    plt.show()"
   ]
  },
  {
   "cell_type": "code",
   "execution_count": 65,
   "id": "0913fa3f",
   "metadata": {},
   "outputs": [
    {
     "data": {
      "image/png": "[encoded data removed]",
      "text/plain": [
       "<Figure size 720x360 with 1 Axes>"
      ]
     },
     "metadata": {
      "needs_background": "light"
     },
     "output_type": "display_data"
    },
    {
     "data": {
      "image/png": "[encoded data removed]",
      "text/plain": [
       "<Figure size 720x360 with 1 Axes>"
      ]
     },
     "metadata": {
      "needs_background": "light"
     },
     "output_type": "display_data"
    },
    {
     "data": {
      "image/png": "[encoded data removed]",
      "text/plain": [
       "<Figure size 720x360 with 1 Axes>"
      ]
     },
     "metadata": {
      "needs_background": "light"
     },
     "output_type": "display_data"
    },
    {
     "data": {
      "image/png": "[encoded data removed]",
      "text/plain": [
       "<Figure size 720x360 with 1 Axes>"
      ]
     },
     "metadata": {
      "needs_background": "light"
     },
     "output_type": "display_data"
    }
   ],
   "source": [
    "meter_arr = gden[\"meter\"].unique()\n",
    "for meter in meter_arr:\n",
    "    mask = gden[\"meter\"] == meter\n",
    "    plt.figure(figsize=(10, 5))\n",
    "    sns.scatterplot(data = gden[mask], x = \"year_built\", y = \"square_feet\")\n",
    "    plt.xlabel(\"Meter: {}\".format(meter))\n",
    "    plt.show()"
   ]
  }
 ],
 "metadata": {
  "kernelspec": {
   "display_name": "Python 3 (ipykernel)",
   "language": "python",
   "name": "python3"
  },
  "language_info": {
   "codemirror_mode": {
    "name": "ipython",
    "version": 3
   },
   "file_extension": ".py",
   "mimetype": "text/x-python",
   "name": "python",
   "nbconvert_exporter": "python",
   "pygments_lexer": "ipython3",
   "version": "3.8.11"
  }
 },
 "nbformat": 4,
 "nbformat_minor": 5
}
